{
 "cells": [
  {
   "cell_type": "markdown",
   "id": "f5c3bb34",
   "metadata": {},
   "source": [
    "### 데이터 준비단계"
   ]
  },
  {
   "cell_type": "code",
   "execution_count": 21,
   "id": "2a8ee49b",
   "metadata": {},
   "outputs": [],
   "source": [
    "import requests as req\n",
    "from bs4 import BeautifulSoup as bs"
   ]
  },
  {
   "cell_type": "code",
   "execution_count": 22,
   "id": "935d2914",
   "metadata": {},
   "outputs": [],
   "source": [
    "h = {\"User-Agent\": \"Mozilla/5.0 (Windows NT 10.0; Win64; x64) AppleWebKit/537.36 (KHTML, like Gecko) Chrome/100.0.4896.88 Safari/537.36\"}"
   ]
  },
  {
   "cell_type": "code",
   "execution_count": 23,
   "id": "69db4cc2",
   "metadata": {},
   "outputs": [
    {
     "data": {
      "text/plain": [
       "<Response [200]>"
      ]
     },
     "execution_count": 23,
     "metadata": {},
     "output_type": "execute_result"
    }
   ],
   "source": [
    "res = req.get(\"https://www.melon.com/genre/song_list.htm?gnrCode=GN0300#params%5BgnrCode%5D=GN0300&params%5BdtlGnrCode%5D=&params%5BorderBy%5D=POP&params%5BsteadyYn%5D=N&po=pageObj&startIndex=1\", headers = h)\n",
    "res"
   ]
  },
  {
   "cell_type": "code",
   "execution_count": 24,
   "id": "3e16a70a",
   "metadata": {},
   "outputs": [],
   "source": [
    "soup = bs(res.text,\"lxml\")"
   ]
  },
  {
   "cell_type": "markdown",
   "id": "697b165a",
   "metadata": {},
   "source": [
    "### 데이터 수집단계"
   ]
  },
  {
   "cell_type": "code",
   "execution_count": 25,
   "id": "f0fea9a4",
   "metadata": {},
   "outputs": [],
   "source": [
    "# 1. 노래제목 수집\n",
    "# * 내가 수집하고자 하는 요소가 구분(id.class)없는 경우에는\n",
    "# * 그 요소를 포함하고 있는 바로 위의 부모요소를 접근\n",
    "# * 주의점! 부모요소 또한 구분자가 없는 경우에는 구분자가 있는 부모까지 검사\n",
    "# * 클래스값 중간에 공백이 있는 경우 = 클래스가 복수개\n",
    "# * 해결방법 : 공백을지우고 .을 통해서 클래스 값을 이어준다\n",
    "song = soup.select(\"div.ellipsis.rank01 > span > a\")"
   ]
  },
  {
   "cell_type": "code",
   "execution_count": 6,
   "id": "f996ca13",
   "metadata": {},
   "outputs": [],
   "source": [
    "# 2. 가수 이름 수집"
   ]
  },
  {
   "cell_type": "code",
   "execution_count": 26,
   "id": "bd69ffef",
   "metadata": {},
   "outputs": [],
   "source": [
    "singer = soup.select(\"div.ellipsis.rank02 > span\")"
   ]
  },
  {
   "cell_type": "code",
   "execution_count": 27,
   "id": "503213f7",
   "metadata": {},
   "outputs": [
    {
     "name": "stdout",
     "output_type": "stream",
     "text": [
      "THE PIECES(더 피스)\n",
      "wethefuture (위더퓨쳐)\n",
      "페임보이 (FAMEBOY)\n",
      "IndEgo Aid\n",
      "Nooma\n",
      "나시언더바(NaShi_Ba)\n",
      "빈나 (B1NNA)\n",
      "정동원, 베이식 (Basick)\n",
      "화평\n",
      "Consuelo (콘수엘로)\n",
      "wvy\n",
      "이보옥\n",
      "Coral J, Whaleday\n",
      "koda (코다)\n",
      "Lofi zoo\n",
      "업무태만\n",
      "Suitz (슈츠), 스콜\n",
      "주노 (JooKnow)\n",
      "아라고 (ARAGO)\n",
      "신세계(NEWRLD)\n",
      "Festy Wxs\n",
      "코넛 (Conut)\n",
      "키모엘 (Kimo:L), xage\n",
      "O.T.O\n",
      "규빈\n",
      "PsychShane\n",
      "이한 (leehan)\n",
      "레어\n",
      "BANDO SURA\n",
      "Lil jibo\n",
      "Movetheguap\n",
      "Wanda boy\n",
      "Wavy\n",
      "Andy White\n",
      "24SQUAD\n",
      "유서준\n",
      "whosthegoose\n",
      "트렌즈 (Tranze)\n",
      "NICKY\n",
      "Nyllin\n",
      "CHEDDA (체다)\n",
      "Noa (노아)\n",
      "Djjb\n",
      "달빛선율\n",
      "우진영\n",
      "Mac9 (맥나인)\n",
      "seshin, M3CHVNIC (메카닉)\n",
      "SEMIN (세민)\n",
      "Shohong\n",
      "FROM.MY\n"
     ]
    }
   ],
   "source": [
    "for i in singer :\n",
    "    print(i.text)"
   ]
  },
  {
   "cell_type": "code",
   "execution_count": 9,
   "id": "e56c94f0",
   "metadata": {},
   "outputs": [
    {
     "data": {
      "text/plain": [
       "100"
      ]
     },
     "execution_count": 9,
     "metadata": {},
     "output_type": "execute_result"
    }
   ],
   "source": [
    "# 개수가 정해져있는 데이터를 수집할 때는\n",
    "# 항상 수집한 데이터의 개수가 맞는지를 체크\n",
    "len(singer)"
   ]
  },
  {
   "cell_type": "code",
   "execution_count": 9,
   "id": "973377ac",
   "metadata": {},
   "outputs": [
    {
     "data": {
      "text/plain": [
       "[<span class=\"checkEllipsis\" style=\"display:none\"><a href=\"javascript:melon.link.goArtistDetail('3110856');\" title=\"WSG워너비 (가야G) - 페이지 이동\">WSG워너비 (가야G)</a></span>,\n",
       " <span class=\"checkEllipsis\" style=\"display:none\"><a href=\"javascript:melon.link.goArtistDetail('3110857');\" title=\"WSG워너비 (4FIRE) - 페이지 이동\">WSG워너비 (4FIRE)</a></span>,\n",
       " <span class=\"checkEllipsis\" style=\"display:none\"><a href=\"javascript:melon.link.goArtistDetail('906641');\" title=\"나연 (TWICE) - 페이지 이동\">나연 (TWICE)</a></span>,\n",
       " <span class=\"checkEllipsis\" style=\"display:none\"><a href=\"javascript:melon.link.goArtistDetail('3055146');\" title=\"IVE (아이브) - 페이지 이동\">IVE (아이브)</a></span>,\n",
       " <span class=\"checkEllipsis\" style=\"display:none\"><a href=\"javascript:melon.link.goArtistDetail('3110858');\" title=\"WSG워너비 (오아시소) - 페이지 이동\">WSG워너비 (오아시소)</a></span>,\n",
       " <span class=\"checkEllipsis\" style=\"display:none\"><a href=\"javascript:melon.link.goArtistDetail('2744750');\" title=\"BIG Naughty (서동현) - 페이지 이동\">BIG Naughty (서동현)</a></span>,\n",
       " <span class=\"checkEllipsis\" style=\"display:none\"><a href=\"javascript:melon.link.goArtistDetail('2137482');\" title=\"(여자)아이들 - 페이지 이동\">(여자)아이들</a></span>,\n",
       " <span class=\"checkEllipsis\" style=\"display:none\"><a href=\"javascript:melon.link.goArtistDetail('3865');\" title=\"싸이 (PSY) - 페이지 이동\">싸이 (PSY)</a></span>,\n",
       " <span class=\"checkEllipsis\" style=\"display:none\"><a href=\"javascript:melon.link.goArtistDetail('839732');\" title=\"멜로망스 - 페이지 이동\">멜로망스</a></span>,\n",
       " <span class=\"checkEllipsis\" style=\"display:none\"><a href=\"javascript:melon.link.goArtistDetail('994005');\" title=\"경서 - 페이지 이동\">경서</a></span>,\n",
       " <span class=\"checkEllipsis\" style=\"display:none\"><a href=\"javascript:melon.link.goArtistDetail('994944');\" title=\"임영웅 - 페이지 이동\">임영웅</a></span>,\n",
       " <span class=\"checkEllipsis\" style=\"display:none\"><a href=\"javascript:melon.link.goArtistDetail('994944');\" title=\"임영웅 - 페이지 이동\">임영웅</a></span>,\n",
       " <span class=\"checkEllipsis\" style=\"display:none\"><a href=\"javascript:melon.link.goArtistDetail('2899555');\" title=\"aespa - 페이지 이동\">aespa</a></span>,\n",
       " <span class=\"checkEllipsis\" style=\"display:none\"><a href=\"javascript:melon.link.goArtistDetail('468244');\" title=\"10CM - 페이지 이동\">10CM</a></span>,\n",
       " <span class=\"checkEllipsis\" style=\"display:none\"><a href=\"javascript:melon.link.goArtistDetail('994944');\" title=\"임영웅 - 페이지 이동\">임영웅</a></span>,\n",
       " <span class=\"checkEllipsis\" style=\"display:none\"><a href=\"javascript:melon.link.goArtistDetail('2758756');\" title=\"BE'O (비오) - 페이지 이동\">BE'O (비오)</a></span>,\n",
       " <span class=\"checkEllipsis\" style=\"display:none\"><a href=\"javascript:melon.link.goArtistDetail('198094');\" title=\"BIGBANG (빅뱅) - 페이지 이동\">BIGBANG (빅뱅)</a></span>,\n",
       " <span class=\"checkEllipsis\" style=\"display:none\"><a href=\"javascript:melon.link.goArtistDetail('3092950');\" title=\"LE SSERAFIM (르세라핌) - 페이지 이동\">LE SSERAFIM (르세라핌)</a></span>,\n",
       " <span class=\"checkEllipsis\" style=\"display:none\"><a href=\"javascript:melon.link.goArtistDetail('672375');\" title=\"방탄소년단 - 페이지 이동\">방탄소년단</a></span>,\n",
       " <span class=\"checkEllipsis\" style=\"display:none\"><a href=\"javascript:melon.link.goArtistDetail('839736');\" title=\"김민석 (멜로망스) - 페이지 이동\">김민석 (멜로망스)</a></span>,\n",
       " <span class=\"checkEllipsis\" style=\"display:none\"><a href=\"javascript:melon.link.goArtistDetail('994944');\" title=\"임영웅 - 페이지 이동\">임영웅</a></span>,\n",
       " <span class=\"checkEllipsis\" style=\"display:none\"><a href=\"javascript:melon.link.goArtistDetail('838654');\" title=\"Charlie Puth - 페이지 이동\">Charlie Puth</a>, <a href=\"javascript:melon.link.goArtistDetail('725987');\" title=\"정국 - 페이지 이동\">정국</a>, <a href=\"javascript:melon.link.goArtistDetail('672375');\" title=\"방탄소년단 - 페이지 이동\">방탄소년단</a></span>,\n",
       " <span class=\"checkEllipsis\" style=\"display:none\"><a href=\"javascript:melon.link.goArtistDetail('683631');\" title=\"주호 - 페이지 이동\">주호</a></span>,\n",
       " <span class=\"checkEllipsis\" style=\"display:none\"><a href=\"javascript:melon.link.goArtistDetail('994944');\" title=\"임영웅 - 페이지 이동\">임영웅</a></span>,\n",
       " <span class=\"checkEllipsis\" style=\"display:none\"><a href=\"javascript:melon.link.goArtistDetail('780066');\" title=\"Red Velvet (레드벨벳) - 페이지 이동\">Red Velvet (레드벨벳)</a></span>,\n",
       " <span class=\"checkEllipsis\" style=\"display:none\"><a href=\"javascript:melon.link.goArtistDetail('994944');\" title=\"임영웅 - 페이지 이동\">임영웅</a></span>,\n",
       " <span class=\"checkEllipsis\" style=\"display:none\"><a href=\"javascript:melon.link.goArtistDetail('792022');\" title=\"볼빨간사춘기 - 페이지 이동\">볼빨간사춘기</a></span>,\n",
       " <span class=\"checkEllipsis\" style=\"display:none\"><a href=\"javascript:melon.link.goArtistDetail('2880487');\" title=\"주시크 (Joosiq) - 페이지 이동\">주시크 (Joosiq)</a></span>,\n",
       " <span class=\"checkEllipsis\" style=\"display:none\"><a href=\"javascript:melon.link.goArtistDetail('775197');\" title=\"WINNER - 페이지 이동\">WINNER</a></span>,\n",
       " <span class=\"checkEllipsis\" style=\"display:none\"><a href=\"javascript:melon.link.goArtistDetail('994944');\" title=\"임영웅 - 페이지 이동\">임영웅</a></span>,\n",
       " <span class=\"checkEllipsis\" style=\"display:none\"><a href=\"javascript:melon.link.goArtistDetail('2138620');\" title=\"이무진 - 페이지 이동\">이무진</a></span>,\n",
       " <span class=\"checkEllipsis\" style=\"display:none\"><a href=\"javascript:melon.link.goArtistDetail('994944');\" title=\"임영웅 - 페이지 이동\">임영웅</a></span>,\n",
       " <span class=\"checkEllipsis\" style=\"display:none\"><a href=\"javascript:melon.link.goArtistDetail('994944');\" title=\"임영웅 - 페이지 이동\">임영웅</a></span>,\n",
       " <span class=\"checkEllipsis\" style=\"display:none\"><a href=\"javascript:melon.link.goArtistDetail('3055146');\" title=\"IVE (아이브) - 페이지 이동\">IVE (아이브)</a></span>,\n",
       " <span class=\"checkEllipsis\" style=\"display:none\"><a href=\"javascript:melon.link.goArtistDetail('994944');\" title=\"임영웅 - 페이지 이동\">임영웅</a></span>,\n",
       " <span class=\"checkEllipsis\" style=\"display:none\"><a href=\"javascript:melon.link.goArtistDetail('205858');\" title=\"이석훈 - 페이지 이동\">이석훈</a></span>,\n",
       " <span class=\"checkEllipsis\" style=\"display:none\"><a href=\"javascript:melon.link.goArtistDetail('994944');\" title=\"임영웅 - 페이지 이동\">임영웅</a></span>,\n",
       " <span class=\"checkEllipsis\" style=\"display:none\"><a href=\"javascript:melon.link.goArtistDetail('2863470');\" title=\"경서예지 - 페이지 이동\">경서예지</a>, <a href=\"javascript:melon.link.goArtistDetail('2739011');\" title=\"전건호 - 페이지 이동\">전건호</a></span>,\n",
       " <span class=\"checkEllipsis\" style=\"display:none\"><a href=\"javascript:melon.link.goArtistDetail('994944');\" title=\"임영웅 - 페이지 이동\">임영웅</a></span>,\n",
       " <span class=\"checkEllipsis\" style=\"display:none\"><a href=\"javascript:melon.link.goArtistDetail('672375');\" title=\"방탄소년단 - 페이지 이동\">방탄소년단</a></span>,\n",
       " <span class=\"checkEllipsis\" style=\"display:none\"><a href=\"javascript:melon.link.goArtistDetail('994944');\" title=\"임영웅 - 페이지 이동\">임영웅</a></span>,\n",
       " <span class=\"checkEllipsis\" style=\"display:none\"><a href=\"javascript:melon.link.goArtistDetail('994944');\" title=\"임영웅 - 페이지 이동\">임영웅</a></span>,\n",
       " <span class=\"checkEllipsis\" style=\"display:none\"><a href=\"javascript:melon.link.goArtistDetail('2137482');\" title=\"(여자)아이들 - 페이지 이동\">(여자)아이들</a></span>,\n",
       " <span class=\"checkEllipsis\" style=\"display:none\"><a href=\"javascript:melon.link.goArtistDetail('443420');\" title=\"박재범 - 페이지 이동\">박재범</a></span>,\n",
       " <span class=\"checkEllipsis\" style=\"display:none\"><a href=\"javascript:melon.link.goArtistDetail('858125');\" title=\"케이시 (Kassy) - 페이지 이동\">케이시 (Kassy)</a></span>,\n",
       " <span class=\"checkEllipsis\" style=\"display:none\"><a href=\"javascript:melon.link.goArtistDetail('22938');\" title=\"선미 - 페이지 이동\">선미</a></span>,\n",
       " <span class=\"checkEllipsis\" style=\"display:none\"><a href=\"javascript:melon.link.goArtistDetail('2743730');\" title=\"The Kid LAROI - 페이지 이동\">The Kid LAROI</a>, <a href=\"javascript:melon.link.goArtistDetail('420621');\" title=\"Justin Bieber - 페이지 이동\">Justin Bieber</a></span>,\n",
       " <span class=\"checkEllipsis\" style=\"display:none\"><a href=\"javascript:melon.link.goArtistDetail('838654');\" title=\"Charlie Puth - 페이지 이동\">Charlie Puth</a></span>,\n",
       " <span class=\"checkEllipsis\" style=\"display:none\"><a href=\"javascript:melon.link.goArtistDetail('236797');\" title=\"태연 (TAEYEON) - 페이지 이동\">태연 (TAEYEON)</a></span>,\n",
       " <span class=\"checkEllipsis\" style=\"display:none\"><a href=\"javascript:melon.link.goArtistDetail('672375');\" title=\"방탄소년단 - 페이지 이동\">방탄소년단</a></span>,\n",
       " <span class=\"checkEllipsis\" style=\"display:none\"><a href=\"javascript:melon.link.goArtistDetail('2939212');\" title=\"MSG워너비(M.O.M) - 페이지 이동\">MSG워너비(M.O.M)</a></span>,\n",
       " <span class=\"checkEllipsis\" style=\"display:none\"><a href=\"javascript:melon.link.goArtistDetail('236815');\" title=\"다비치 - 페이지 이동\">다비치</a></span>,\n",
       " <span class=\"checkEllipsis\" style=\"display:none\"><a href=\"javascript:melon.link.goArtistDetail('2087273');\" title=\"임재현 - 페이지 이동\">임재현</a></span>,\n",
       " <span class=\"checkEllipsis\" style=\"display:none\"><a href=\"javascript:melon.link.goArtistDetail('2899555');\" title=\"aespa - 페이지 이동\">aespa</a></span>,\n",
       " <span class=\"checkEllipsis\" style=\"display:none\"><a href=\"javascript:melon.link.goArtistDetail('2899555');\" title=\"aespa - 페이지 이동\">aespa</a></span>,\n",
       " <span class=\"checkEllipsis\" style=\"display:none\"><a href=\"javascript:melon.link.goArtistDetail('672375');\" title=\"방탄소년단 - 페이지 이동\">방탄소년단</a></span>,\n",
       " <span class=\"checkEllipsis\" style=\"display:none\"><a href=\"javascript:melon.link.goArtistDetail('3305');\" title=\"성시경 - 페이지 이동\">성시경</a></span>,\n",
       " <span class=\"checkEllipsis\" style=\"display:none\"><a href=\"javascript:melon.link.goArtistDetail('751611');\" title=\"헤이즈 (Heize) - 페이지 이동\">헤이즈 (Heize)</a></span>,\n",
       " <span class=\"checkEllipsis\" style=\"display:none\"><a href=\"javascript:melon.link.goArtistDetail('236797');\" title=\"태연 (TAEYEON) - 페이지 이동\">태연 (TAEYEON)</a></span>,\n",
       " <span class=\"checkEllipsis\" style=\"display:none\"><a href=\"javascript:melon.link.goArtistDetail('1024489');\" title=\"#안녕 - 페이지 이동\">#안녕</a></span>,\n",
       " <span class=\"checkEllipsis\" style=\"display:none\"><a href=\"javascript:melon.link.goArtistDetail('2880487');\" title=\"주시크 (Joosiq) - 페이지 이동\">주시크 (Joosiq)</a></span>,\n",
       " <span class=\"checkEllipsis\" style=\"display:none\"><a href=\"javascript:melon.link.goArtistDetail('2399724');\" title=\"YENA (최예나) - 페이지 이동\">YENA (최예나)</a></span>,\n",
       " <span class=\"checkEllipsis\" style=\"display:none\"><a href=\"javascript:melon.link.goArtistDetail('861436');\" title=\"세븐틴 - 페이지 이동\">세븐틴</a></span>,\n",
       " <span class=\"checkEllipsis\" style=\"display:none\"><a href=\"javascript:melon.link.goArtistDetail('968265');\" title=\"청하 - 페이지 이동\">청하</a></span>,\n",
       " <span class=\"checkEllipsis\" style=\"display:none\"><a href=\"javascript:melon.link.goArtistDetail('2744750');\" title=\"BIG Naughty (서동현) - 페이지 이동\">BIG Naughty (서동현)</a></span>,\n",
       " <span class=\"checkEllipsis\" style=\"display:none\"><a href=\"javascript:melon.link.goArtistDetail('261143');\" title=\"아이유 - 페이지 이동\">아이유</a></span>,\n",
       " <span class=\"checkEllipsis\" style=\"display:none\"><a href=\"javascript:melon.link.goArtistDetail('176393');\" title=\"제시 (Jessi) - 페이지 이동\">제시 (Jessi)</a></span>,\n",
       " <span class=\"checkEllipsis\" style=\"display:none\"><a href=\"javascript:melon.link.goArtistDetail('672375');\" title=\"방탄소년단 - 페이지 이동\">방탄소년단</a></span>,\n",
       " <span class=\"checkEllipsis\" style=\"display:none\"><a href=\"javascript:melon.link.goArtistDetail('2561475');\" title=\"sokodomo - 페이지 이동\">sokodomo</a></span>,\n",
       " <span class=\"checkEllipsis\" style=\"display:none\"><a href=\"javascript:melon.link.goArtistDetail('2899555');\" title=\"aespa - 페이지 이동\">aespa</a></span>,\n",
       " <span class=\"checkEllipsis\" style=\"display:none\"><a href=\"javascript:melon.link.goArtistDetail('858125');\" title=\"케이시 (Kassy) - 페이지 이동\">케이시 (Kassy)</a></span>,\n",
       " <span class=\"checkEllipsis\" style=\"display:none\"><a href=\"javascript:melon.link.goArtistDetail('261143');\" title=\"아이유 - 페이지 이동\">아이유</a></span>,\n",
       " <span class=\"checkEllipsis\" style=\"display:none\"><a href=\"javascript:melon.link.goArtistDetail('2939212');\" title=\"MSG워너비(M.O.M) - 페이지 이동\">MSG워너비(M.O.M)</a></span>,\n",
       " <span class=\"checkEllipsis\" style=\"display:none\"><a href=\"javascript:melon.link.goArtistDetail('725985');\" title=\"지민 - 페이지 이동\">지민</a>, <a href=\"javascript:melon.link.goArtistDetail('875152');\" title=\"하성운 - 페이지 이동\">하성운</a></span>,\n",
       " <span class=\"checkEllipsis\" style=\"display:none\"><a href=\"javascript:melon.link.goArtistDetail('785501');\" title=\"디핵 (D-Hack) - 페이지 이동\">디핵 (D-Hack)</a>, <a href=\"javascript:melon.link.goArtistDetail('2750866');\" title=\"PATEKO (파테코) - 페이지 이동\">PATEKO (파테코)</a></span>,\n",
       " <span class=\"checkEllipsis\" style=\"display:none\"><a href=\"javascript:melon.link.goArtistDetail('100260');\" title=\"Coldplay - 페이지 이동\">Coldplay</a>, <a href=\"javascript:melon.link.goArtistDetail('672375');\" title=\"방탄소년단 - 페이지 이동\">방탄소년단</a></span>,\n",
       " <span class=\"checkEllipsis\" style=\"display:none\"><a href=\"javascript:melon.link.goArtistDetail('752425');\" title=\"폴킴 - 페이지 이동\">폴킴</a></span>,\n",
       " <span class=\"checkEllipsis\" style=\"display:none\"><a href=\"javascript:melon.link.goArtistDetail('2758756');\" title=\"BE'O (비오) - 페이지 이동\">BE'O (비오)</a></span>,\n",
       " <span class=\"checkEllipsis\" style=\"display:none\"><a href=\"javascript:melon.link.goArtistDetail('261143');\" title=\"아이유 - 페이지 이동\">아이유</a></span>,\n",
       " <span class=\"checkEllipsis\" style=\"display:none\"><a href=\"javascript:melon.link.goArtistDetail('683631');\" title=\"주호 - 페이지 이동\">주호</a></span>,\n",
       " <span class=\"checkEllipsis\" style=\"display:none\"><a href=\"javascript:melon.link.goArtistDetail('420621');\" title=\"Justin Bieber - 페이지 이동\">Justin Bieber</a></span>,\n",
       " <span class=\"checkEllipsis\" style=\"display:none\"><a href=\"javascript:melon.link.goArtistDetail('994005');\" title=\"경서 - 페이지 이동\">경서</a></span>,\n",
       " <span class=\"checkEllipsis\" style=\"display:none\"><a href=\"javascript:melon.link.goArtistDetail('100094');\" title=\"자우림 - 페이지 이동\">자우림</a></span>,\n",
       " <span class=\"checkEllipsis\" style=\"display:none\"><a href=\"javascript:melon.link.goArtistDetail('672375');\" title=\"방탄소년단 - 페이지 이동\">방탄소년단</a></span>,\n",
       " <span class=\"checkEllipsis\" style=\"display:none\"><a href=\"javascript:melon.link.goArtistDetail('2899555');\" title=\"aespa - 페이지 이동\">aespa</a></span>,\n",
       " <span class=\"checkEllipsis\" style=\"display:none\"><a href=\"javascript:melon.link.goArtistDetail('108794');\" title=\"V.O.S - 페이지 이동\">V.O.S</a></span>,\n",
       " <span class=\"checkEllipsis\" style=\"display:none\"><a href=\"javascript:melon.link.goArtistDetail('2758756');\" title=\"BE'O (비오) - 페이지 이동\">BE'O (비오)</a></span>,\n",
       " <span class=\"checkEllipsis\" style=\"display:none\"><a href=\"javascript:melon.link.goArtistDetail('531700');\" title=\"브레이브걸스 - 페이지 이동\">브레이브걸스</a></span>,\n",
       " <span class=\"checkEllipsis\" style=\"display:none\"><a href=\"javascript:melon.link.goArtistDetail('261143');\" title=\"아이유 - 페이지 이동\">아이유</a></span>,\n",
       " <span class=\"checkEllipsis\" style=\"display:none\"><a href=\"javascript:melon.link.goArtistDetail('261143');\" title=\"아이유 - 페이지 이동\">아이유</a></span>,\n",
       " <span class=\"checkEllipsis\" style=\"display:none\"><a href=\"javascript:melon.link.goArtistDetail('2138620');\" title=\"이무진 - 페이지 이동\">이무진</a></span>,\n",
       " <span class=\"checkEllipsis\" style=\"display:none\"><a href=\"javascript:melon.link.goArtistDetail('261143');\" title=\"아이유 - 페이지 이동\">아이유</a></span>,\n",
       " <span class=\"checkEllipsis\" style=\"display:none\"><a href=\"javascript:melon.link.goArtistDetail('2893700');\" title=\"탑현 - 페이지 이동\">탑현</a></span>,\n",
       " <span class=\"checkEllipsis\" style=\"display:none\"><a href=\"javascript:melon.link.goArtistDetail('751611');\" title=\"헤이즈 (Heize) - 페이지 이동\">헤이즈 (Heize)</a></span>,\n",
       " <span class=\"checkEllipsis\" style=\"display:none\"><a href=\"javascript:melon.link.goArtistDetail('549800');\" title=\"Ed Sheeran - 페이지 이동\">Ed Sheeran</a></span>,\n",
       " <span class=\"checkEllipsis\" style=\"display:none\"><a href=\"javascript:melon.link.goArtistDetail('712452');\" title=\"AKMU (악뮤) - 페이지 이동\">AKMU (악뮤)</a></span>,\n",
       " <span class=\"checkEllipsis\" style=\"display:none\"><a href=\"javascript:melon.link.goArtistDetail('566431');\" title=\"마크툽 (MAKTUB) - 페이지 이동\">마크툽 (MAKTUB)</a></span>,\n",
       " <span class=\"checkEllipsis\" style=\"display:none\"><a href=\"javascript:melon.link.goArtistDetail('672375');\" title=\"방탄소년단 - 페이지 이동\">방탄소년단</a></span>,\n",
       " <span class=\"checkEllipsis\" style=\"display:none\"><a href=\"javascript:melon.link.goArtistDetail('2754623');\" title=\"호미들 - 페이지 이동\">호미들</a></span>,\n",
       " <span class=\"checkEllipsis\" style=\"display:none\"><a href=\"javascript:melon.link.goArtistDetail('839732');\" title=\"멜로망스 - 페이지 이동\">멜로망스</a></span>]"
      ]
     },
     "execution_count": 9,
     "metadata": {},
     "output_type": "execute_result"
    }
   ],
   "source": [
    "# 가수 100명과, 노래 100곡을 수집 후 리스트 제작\n",
    "song\n",
    "singer"
   ]
  },
  {
   "cell_type": "code",
   "execution_count": 10,
   "id": "c4326dbc",
   "metadata": {},
   "outputs": [],
   "source": [
    "# 데이터 수집 후\n",
    "# 순수한 글자정보만 추출해서 저장\n",
    "# 순수한 글자정보만 저장시킬 리스트 생성\n",
    "songList = []\n",
    "singerList = []\n",
    "rankList = []\n",
    "\n",
    "for i in range(len(singer)) :\n",
    "    songList.append(song[i].text)\n",
    "    singerList.append(singer[i].text)\n",
    "    rankList.append(i+1)"
   ]
  },
  {
   "cell_type": "code",
   "execution_count": 11,
   "id": "0d110dcb",
   "metadata": {},
   "outputs": [
    {
     "data": {
      "text/plain": [
       "['WSG워너비 (가야G)',\n",
       " 'WSG워너비 (4FIRE)',\n",
       " '나연 (TWICE)',\n",
       " 'IVE (아이브)',\n",
       " 'WSG워너비 (오아시소)',\n",
       " 'BIG Naughty (서동현)',\n",
       " '(여자)아이들',\n",
       " '싸이 (PSY)',\n",
       " '멜로망스',\n",
       " '경서',\n",
       " '임영웅',\n",
       " '임영웅',\n",
       " 'aespa',\n",
       " '10CM',\n",
       " '임영웅',\n",
       " \"BE'O (비오)\",\n",
       " 'BIGBANG (빅뱅)',\n",
       " 'LE SSERAFIM (르세라핌)',\n",
       " '방탄소년단',\n",
       " '김민석 (멜로망스)',\n",
       " '임영웅',\n",
       " 'Charlie Puth, 정국, 방탄소년단',\n",
       " '주호',\n",
       " '임영웅',\n",
       " 'Red Velvet (레드벨벳)',\n",
       " '임영웅',\n",
       " '볼빨간사춘기',\n",
       " '주시크 (Joosiq)',\n",
       " 'WINNER',\n",
       " '임영웅',\n",
       " '이무진',\n",
       " '임영웅',\n",
       " '임영웅',\n",
       " 'IVE (아이브)',\n",
       " '임영웅',\n",
       " '이석훈',\n",
       " '임영웅',\n",
       " '경서예지, 전건호',\n",
       " '임영웅',\n",
       " '방탄소년단',\n",
       " '임영웅',\n",
       " '임영웅',\n",
       " '(여자)아이들',\n",
       " '박재범',\n",
       " '케이시 (Kassy)',\n",
       " '선미',\n",
       " 'The Kid LAROI, Justin Bieber',\n",
       " 'Charlie Puth',\n",
       " '태연 (TAEYEON)',\n",
       " '방탄소년단',\n",
       " 'MSG워너비(M.O.M)',\n",
       " '다비치',\n",
       " '임재현',\n",
       " 'aespa',\n",
       " 'aespa',\n",
       " '방탄소년단',\n",
       " '성시경',\n",
       " '헤이즈 (Heize)',\n",
       " '태연 (TAEYEON)',\n",
       " '#안녕',\n",
       " '주시크 (Joosiq)',\n",
       " 'YENA (최예나)',\n",
       " '세븐틴',\n",
       " '청하',\n",
       " 'BIG Naughty (서동현)',\n",
       " '아이유',\n",
       " '제시 (Jessi)',\n",
       " '방탄소년단',\n",
       " 'sokodomo',\n",
       " 'aespa',\n",
       " '케이시 (Kassy)',\n",
       " '아이유',\n",
       " 'MSG워너비(M.O.M)',\n",
       " '지민, 하성운',\n",
       " '디핵 (D-Hack), PATEKO (파테코)',\n",
       " 'Coldplay, 방탄소년단',\n",
       " '폴킴',\n",
       " \"BE'O (비오)\",\n",
       " '아이유',\n",
       " '주호',\n",
       " 'Justin Bieber',\n",
       " '경서',\n",
       " '자우림',\n",
       " '방탄소년단',\n",
       " 'aespa',\n",
       " 'V.O.S',\n",
       " \"BE'O (비오)\",\n",
       " '브레이브걸스',\n",
       " '아이유',\n",
       " '아이유',\n",
       " '이무진',\n",
       " '아이유',\n",
       " '탑현',\n",
       " '헤이즈 (Heize)',\n",
       " 'Ed Sheeran',\n",
       " 'AKMU (악뮤)',\n",
       " '마크툽 (MAKTUB)',\n",
       " '방탄소년단',\n",
       " '호미들',\n",
       " '멜로망스']"
      ]
     },
     "execution_count": 11,
     "metadata": {},
     "output_type": "execute_result"
    }
   ],
   "source": [
    "singerList"
   ]
  },
  {
   "cell_type": "code",
   "execution_count": 16,
   "id": "eb0d7752",
   "metadata": {},
   "outputs": [],
   "source": [
    "# 수집한 데이터를 활용해서 데이터프레임(표)제작\n",
    "import pandas as pd"
   ]
  },
  {
   "cell_type": "code",
   "execution_count": 17,
   "id": "58a113ce",
   "metadata": {},
   "outputs": [],
   "source": [
    "dic = {\"노래제목\" : songList, \"가수\" : singerList, \"순위\" : rankList}"
   ]
  },
  {
   "cell_type": "code",
   "execution_count": 18,
   "id": "07727862",
   "metadata": {
    "scrolled": false
   },
   "outputs": [],
   "source": [
    "melon = pd.DataFrame(dic)"
   ]
  },
  {
   "cell_type": "code",
   "execution_count": 19,
   "id": "7898b98f",
   "metadata": {},
   "outputs": [],
   "source": [
    "melon.set_index(\"순위\", inplace=True)"
   ]
  },
  {
   "cell_type": "code",
   "execution_count": 20,
   "id": "4bce19a1",
   "metadata": {},
   "outputs": [],
   "source": [
    "# CSV 형식의 파일로 저장\n",
    "# 한글이 깨지기 때문에 encoding 필수\n",
    "\n",
    "#tip\n",
    "# 1. euc-kr\n",
    "# 2. utf-8\n",
    "# 3. \"\"\n",
    "# 4.utf-8-sig\n",
    "melon.to_csv(\"멜론차트.csv\", encoding=\"euc_kr\")"
   ]
  },
  {
   "cell_type": "code",
   "execution_count": null,
   "id": "e6aa14f3",
   "metadata": {},
   "outputs": [],
   "source": []
  },
  {
   "cell_type": "code",
   "execution_count": null,
   "id": "79143c24",
   "metadata": {},
   "outputs": [],
   "source": [
    "https://www.melon.com/genre/song_list.htm?gnrCode=GN0300#params%5BgnrCode%5D=GN0300&params%5BdtlGnrCode%5D=&params%5BorderBy%5D=POP&params%5BsteadyYn%5D=N&po=pageObj&startIndex=1"
   ]
  },
  {
   "cell_type": "code",
   "execution_count": null,
   "id": "ae10d0a6",
   "metadata": {},
   "outputs": [],
   "source": []
  },
  {
   "cell_type": "code",
   "execution_count": null,
   "id": "2f2a3153",
   "metadata": {},
   "outputs": [],
   "source": []
  },
  {
   "cell_type": "code",
   "execution_count": null,
   "id": "9e7387a1",
   "metadata": {},
   "outputs": [],
   "source": []
  }
 ],
 "metadata": {
  "kernelspec": {
   "display_name": "Python 3 (ipykernel)",
   "language": "python",
   "name": "python3"
  },
  "language_info": {
   "codemirror_mode": {
    "name": "ipython",
    "version": 3
   },
   "file_extension": ".py",
   "mimetype": "text/x-python",
   "name": "python",
   "nbconvert_exporter": "python",
   "pygments_lexer": "ipython3",
   "version": "3.9.7"
  }
 },
 "nbformat": 4,
 "nbformat_minor": 5
}
