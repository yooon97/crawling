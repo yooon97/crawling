{
 "cells": [
  {
   "cell_type": "code",
   "execution_count": 1,
   "id": "5c083716",
   "metadata": {},
   "outputs": [],
   "source": [
    "import requests as req\n",
    "from bs4 import BeautifulSoup as bs\n",
    "from selenium import webdriver as wb\n",
    "from selenium.webdriver.common.keys import Keys\n",
    "import time\n",
    "h = {\"User-Agent\": \"Mozilla/5.0 (Windows NT 10.0; Win64; x64) AppleWebKit/537.36 (KHTML, like Gecko) Chrome/100.0.4896.127 Safari/537.36\"}\n",
    "\n"
   ]
  },
  {
   "cell_type": "code",
   "execution_count": 2,
   "id": "2b0bd597",
   "metadata": {},
   "outputs": [],
   "source": [
    "driver = wb.Chrome()"
   ]
  },
  {
   "cell_type": "code",
   "execution_count": 3,
   "id": "ee928184",
   "metadata": {},
   "outputs": [
    {
     "name": "stderr",
     "output_type": "stream",
     "text": [
      "C:\\Users\\smhrd\\AppData\\Local\\Temp/ipykernel_26788/1601932610.py:2: DeprecationWarning: find_element_by_class_name is deprecated. Please use find_element(by=By.CLASS_NAME, value=name) instead\n",
      "  search=driver.find_element_by_class_name(\"ui-autocomplete-input\")\n"
     ]
    }
   ],
   "source": [
    "driver.get(\"https://www.melon.com/search/dj/index.htm?section=&searchGnbYn=Y&kkoSpl=Y&kkoDpType=\")\n",
    "search=driver.find_element_by_class_name(\"ui-autocomplete-input\")\n"
   ]
  },
  {
   "cell_type": "code",
   "execution_count": 4,
   "id": "c725e943",
   "metadata": {
    "scrolled": false
   },
   "outputs": [
    {
     "name": "stderr",
     "output_type": "stream",
     "text": [
      "C:\\Users\\smhrd\\AppData\\Local\\Temp/ipykernel_26788/3239584359.py:9: DeprecationWarning: find_element_by_class_name is deprecated. Please use find_element(by=By.CLASS_NAME, value=name) instead\n",
      "  search=driver.find_element_by_class_name(\"ui-autocomplete-input\")\n",
      "C:\\Users\\smhrd\\AppData\\Local\\Temp/ipykernel_26788/3239584359.py:25: DeprecationWarning: find_elements_by_class_name is deprecated. Please use find_elements(by=By.CLASS_NAME, value=name) instead\n",
      "  btn = driver.find_elements_by_class_name(\"thumb_frame\")[j]\n"
     ]
    },
    {
     "ename": "IndexError",
     "evalue": "list index out of range",
     "output_type": "error",
     "traceback": [
      "\u001b[1;31m---------------------------------------------------------------------------\u001b[0m",
      "\u001b[1;31mIndexError\u001b[0m                                Traceback (most recent call last)",
      "\u001b[1;32m~\\AppData\\Local\\Temp/ipykernel_26788/3239584359.py\u001b[0m in \u001b[0;36m<module>\u001b[1;34m\u001b[0m\n\u001b[0;32m     23\u001b[0m             \u001b[0mdriver\u001b[0m\u001b[1;33m.\u001b[0m\u001b[0mget\u001b[0m\u001b[1;33m(\u001b[0m\u001b[0murl\u001b[0m\u001b[1;33m)\u001b[0m\u001b[1;33m\u001b[0m\u001b[1;33m\u001b[0m\u001b[0m\n\u001b[0;32m     24\u001b[0m             \u001b[0mtime\u001b[0m\u001b[1;33m.\u001b[0m\u001b[0msleep\u001b[0m\u001b[1;33m(\u001b[0m\u001b[1;36m1\u001b[0m\u001b[1;33m)\u001b[0m\u001b[1;33m\u001b[0m\u001b[1;33m\u001b[0m\u001b[0m\n\u001b[1;32m---> 25\u001b[1;33m             \u001b[0mbtn\u001b[0m \u001b[1;33m=\u001b[0m \u001b[0mdriver\u001b[0m\u001b[1;33m.\u001b[0m\u001b[0mfind_elements_by_class_name\u001b[0m\u001b[1;33m(\u001b[0m\u001b[1;34m\"thumb_frame\"\u001b[0m\u001b[1;33m)\u001b[0m\u001b[1;33m[\u001b[0m\u001b[0mj\u001b[0m\u001b[1;33m]\u001b[0m\u001b[1;33m\u001b[0m\u001b[1;33m\u001b[0m\u001b[0m\n\u001b[0m\u001b[0;32m     26\u001b[0m             \u001b[0mbtn\u001b[0m\u001b[1;33m.\u001b[0m\u001b[0mclick\u001b[0m\u001b[1;33m(\u001b[0m\u001b[1;33m)\u001b[0m\u001b[1;33m\u001b[0m\u001b[1;33m\u001b[0m\u001b[0m\n\u001b[0;32m     27\u001b[0m             \u001b[0msongCount_Xpath\u001b[0m \u001b[1;33m=\u001b[0m \u001b[0mdriver\u001b[0m\u001b[1;33m.\u001b[0m\u001b[0mfind_element_by_xpath\u001b[0m\u001b[1;33m(\u001b[0m\u001b[1;34m'//*[@id=\"conts\"]/div[4]/div[1]/h5/span'\u001b[0m\u001b[1;33m)\u001b[0m\u001b[1;33m\u001b[0m\u001b[1;33m\u001b[0m\u001b[0m\n",
      "\u001b[1;31mIndexError\u001b[0m: list index out of range"
     ]
    }
   ],
   "source": [
    "result ={}\n",
    "musicList = []\n",
    "indexNum = 1\n",
    "\n",
    "\n",
    "for i in ['봄','여름','가을','겨울']:\n",
    "     \n",
    "    indexNum = 1\n",
    "    search=driver.find_element_by_class_name(\"ui-autocomplete-input\")\n",
    "    search.send_keys(i)\n",
    "    search.send_keys(Keys.ENTER)\n",
    "    for n in range(100) : \n",
    "        time.sleep(1)\n",
    "        \n",
    "        url = 'https://www.melon.com/genre/song_list.htm?gnrCode=GN0300#params%5BgnrCode%5D=GN0300&params%5BdtlGnrCode%5D=&params%5BorderBy%5D=POP&params%5BsteadyYn%5D=N&po=pageObj&startIndex=1'.format(i,indexNum)\n",
    "        driver.get(url)\n",
    "     \n",
    "        \n",
    "        for j in range(1,11):\n",
    "            time.sleep(1)\n",
    "            \n",
    "    \n",
    "            driver.get(url)\n",
    "            time.sleep(1)\n",
    "            btn = driver.find_elements_by_class_name(\"thumb_frame\")[j]\n",
    "            btn.click()\n",
    "            songCount_Xpath = driver.find_element_by_xpath('//*[@id=\"conts\"]/div[4]/div[1]/h5/span')\n",
    "            songCount = int(songCount_Xpath.text[1:-1])\n",
    "            for k in range(1,10):\n",
    "                song_Xpath = driver.find_element_by_xpath('//*[@id=\"frm\"]/div/table/tbody/tr['+str(k)+']/td[5]/div/div/div[1]/span/a')   \n",
    "                song = song_Xpath.text\n",
    "                print(song)    \n",
    "        indexNum \n",
    " # 곡명을 긁어오는 코드          \n",
    "\n",
    "        print(songCount)\n",
    "        \n",
    "        driver.back()"
   ]
  },
  {
   "cell_type": "code",
   "execution_count": null,
   "id": "48886643",
   "metadata": {},
   "outputs": [],
   "source": [
    "result ={}\n",
    "musicList = []"
   ]
  },
  {
   "cell_type": "code",
   "execution_count": null,
   "id": "79f9445e",
   "metadata": {},
   "outputs": [],
   "source": [
    "result2 = {\"봄\":[\"봄\",\"과\",\"관\",\"련\",\"된\",\"노\",\"래\"]}"
   ]
  },
  {
   "cell_type": "code",
   "execution_count": null,
   "id": "0d314d4b",
   "metadata": {},
   "outputs": [],
   "source": [
    "result.update(result2)"
   ]
  },
  {
   "cell_type": "code",
   "execution_count": null,
   "id": "a389e2db",
   "metadata": {},
   "outputs": [],
   "source": [
    "base_url = 'https://www.melon.com/search/dj/index.htm?q=%EA%B5%B0%EB%8C%80&section=&searchGnbYn=Y&kkoSpl=Y&kkoDpType=&mwkLogType=T#params%5Bq%5D=%25EA%25B5%25B0%25EB%258C%2580&params%5Bsort%5D=weight&params%5Bsection%5D=all&po=pageObj&startIndex={}'\n",
    "driver = wb.Chrome()\n",
    "\n",
    "for n in range(100) : \n",
    "    \n",
    "    \n",
    "    \n",
    "    \n",
    "    \n",
    "    "
   ]
  },
  {
   "cell_type": "code",
   "execution_count": null,
   "id": "062d9181",
   "metadata": {},
   "outputs": [],
   "source": [
    "for k in range(1,51):\n",
    "    song_Xpath = driver.find_element_by_xpath('//*[@id=\"frm\"]/div/table/tbody/tr['+str(k)+']/td[5]/div/div/div[1]/span/a')   \n",
    "    song = song_Xpath.text\n",
    "    print(song)    \n",
    "           \n",
    " # 곡명을 긁어오는 코드          \n"
   ]
  }
 ],
 "metadata": {
  "kernelspec": {
   "display_name": "Python 3 (ipykernel)",
   "language": "python",
   "name": "python3"
  },
  "language_info": {
   "codemirror_mode": {
    "name": "ipython",
    "version": 3
   },
   "file_extension": ".py",
   "mimetype": "text/x-python",
   "name": "python",
   "nbconvert_exporter": "python",
   "pygments_lexer": "ipython3",
   "version": "3.9.7"
  }
 },
 "nbformat": 4,
 "nbformat_minor": 5
}
