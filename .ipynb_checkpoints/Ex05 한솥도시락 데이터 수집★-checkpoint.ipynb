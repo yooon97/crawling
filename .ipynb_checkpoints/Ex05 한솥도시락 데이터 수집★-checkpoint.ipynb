{
 "cells": [
  {
   "cell_type": "code",
   "execution_count": 1,
   "id": "f9d42f73",
   "metadata": {},
   "outputs": [],
   "source": [
    "from selenium import webdriver as wb\n",
    "import time\n",
    "import pandas as pd"
   ]
  },
  {
   "cell_type": "code",
   "execution_count": 42,
   "id": "17cfacdd",
   "metadata": {},
   "outputs": [],
   "source": [
    "#1. 크롬부라우저를 실행\n",
    "# 1.1 페이지이동(https://www.hsd.co.kr/menu/menu_list)\n",
    "driver = wb.Chrome()\n",
    "driver.get(\"https://www.hsd.co.kr/menu/menu_list\")"
   ]
  },
  {
   "cell_type": "code",
   "execution_count": 37,
   "id": "5ade7955",
   "metadata": {},
   "outputs": [
    {
     "name": "stderr",
     "output_type": "stream",
     "text": [
      "C:\\Users\\smhrd\\AppData\\Local\\Temp/ipykernel_4332/1269934108.py:2: DeprecationWarning: find_elements_by_css_selector is deprecated. Please use find_elements(by=By.CSS_SELECTOR, value=css_selector) instead\n",
      "  title = driver.find_elements_by_css_selector(\"h4.h.fz_03\")\n"
     ]
    }
   ],
   "source": [
    "# 2. 메뉴의 이름 정보를 수집\n",
    "title = driver.find_elements_by_css_selector(\"h4.h.fz_03\")"
   ]
  },
  {
   "cell_type": "code",
   "execution_count": 38,
   "id": "13b87fa4",
   "metadata": {},
   "outputs": [
    {
     "name": "stderr",
     "output_type": "stream",
     "text": [
      "C:\\Users\\smhrd\\AppData\\Local\\Temp/ipykernel_4332/3647108233.py:2: DeprecationWarning: find_elements_by_css_selector is deprecated. Please use find_elements(by=By.CSS_SELECTOR, value=css_selector) instead\n",
      "  price = driver.find_elements_by_css_selector(\"div > div.item-text > div > strong\")\n"
     ]
    }
   ],
   "source": [
    "# 3. 메뉴의 가격 정보를 수집\n",
    "price = driver.find_elements_by_css_selector(\"div > div.item-text > div > strong\")"
   ]
  },
  {
   "cell_type": "code",
   "execution_count": null,
   "id": "04b22a16",
   "metadata": {},
   "outputs": [],
   "source": [
    "#menuList_430 > div > div.item-text > div > strong"
   ]
  },
  {
   "cell_type": "code",
   "execution_count": 39,
   "id": "fc49d5be",
   "metadata": {
    "scrolled": true
   },
   "outputs": [
    {
     "data": {
      "text/plain": [
       "'5,500'"
      ]
     },
     "execution_count": 39,
     "metadata": {},
     "output_type": "execute_result"
    }
   ],
   "source": [
    "price[5].text"
   ]
  },
  {
   "cell_type": "code",
   "execution_count": 40,
   "id": "a3d42e3c",
   "metadata": {},
   "outputs": [
    {
     "data": {
      "text/plain": [
       "8"
      ]
     },
     "execution_count": 40,
     "metadata": {},
     "output_type": "execute_result"
    }
   ],
   "source": [
    "# 4. 데이터의 개수가 같은지 확인\n",
    "len(price)"
   ]
  },
  {
   "cell_type": "code",
   "execution_count": 32,
   "id": "39a08f0c",
   "metadata": {
    "collapsed": true
   },
   "outputs": [
    {
     "name": "stderr",
     "output_type": "stream",
     "text": [
      "C:\\Users\\smhrd\\AppData\\Local\\Temp/ipykernel_4332/1368685084.py:2: DeprecationWarning: find_element_by_css_selector is deprecated. Please use find_element(by=By.CSS_SELECTOR, value=css_selector) instead\n",
      "  btn = driver.find_element_by_css_selector(\"a.c_05\")\n"
     ]
    }
   ],
   "source": [
    "# 더보기 버튼을 클릭\n",
    "btn = driver.find_element_by_css_selector(\"a.c_05\")\n",
    "btn.click()"
   ]
  },
  {
   "cell_type": "code",
   "execution_count": 33,
   "id": "61b79ef3",
   "metadata": {
    "collapsed": true
   },
   "outputs": [
    {
     "name": "stderr",
     "output_type": "stream",
     "text": [
      "C:\\Users\\smhrd\\AppData\\Local\\Temp/ipykernel_4332/1957248315.py:3: DeprecationWarning: find_element_by_css_selector is deprecated. Please use find_element(by=By.CSS_SELECTOR, value=css_selector) instead\n",
      "  btn = driver.find_element_by_css_selector(\"a.c_05\")\n"
     ]
    },
    {
     "ename": "ElementNotInteractableException",
     "evalue": "Message: element not interactable\n  (Session info: chrome=100.0.4896.127)\nStacktrace:\nBacktrace:\n\tOrdinal0 [0x010B7413+2389011]\n\tOrdinal0 [0x01049F61+1941345]\n\tOrdinal0 [0x00F3C520+836896]\n\tOrdinal0 [0x00F6A1F3+1024499]\n\tOrdinal0 [0x00F5FF93+982931]\n\tOrdinal0 [0x00F8414C+1130828]\n\tOrdinal0 [0x00F5F974+981364]\n\tOrdinal0 [0x00F84364+1131364]\n\tOrdinal0 [0x00F94302+1196802]\n\tOrdinal0 [0x00F83F66+1130342]\n\tOrdinal0 [0x00F5E546+976198]\n\tOrdinal0 [0x00F5F456+980054]\n\tGetHandleVerifier [0x01269632+1727522]\n\tGetHandleVerifier [0x0131BA4D+2457661]\n\tGetHandleVerifier [0x0114EB81+569713]\n\tGetHandleVerifier [0x0114DD76+566118]\n\tOrdinal0 [0x01050B2B+1968939]\n\tOrdinal0 [0x01055988+1989000]\n\tOrdinal0 [0x01055A75+1989237]\n\tOrdinal0 [0x0105ECB1+2026673]\n\tBaseThreadInitThunk [0x76FEFA29+25]\n\tRtlGetAppContainerNamedObjectPath [0x77227A7E+286]\n\tRtlGetAppContainerNamedObjectPath [0x77227A4E+238]\n",
     "output_type": "error",
     "traceback": [
      "\u001b[1;31m---------------------------------------------------------------------------\u001b[0m",
      "\u001b[1;31mElementNotInteractableException\u001b[0m           Traceback (most recent call last)",
      "\u001b[1;32m~\\AppData\\Local\\Temp/ipykernel_4332/1957248315.py\u001b[0m in \u001b[0;36m<module>\u001b[1;34m\u001b[0m\n\u001b[0;32m      2\u001b[0m \u001b[1;32mfor\u001b[0m \u001b[0mi\u001b[0m \u001b[1;32min\u001b[0m \u001b[0mrange\u001b[0m\u001b[1;33m(\u001b[0m\u001b[1;36m30\u001b[0m\u001b[1;33m)\u001b[0m \u001b[1;33m:\u001b[0m\u001b[1;33m\u001b[0m\u001b[1;33m\u001b[0m\u001b[0m\n\u001b[0;32m      3\u001b[0m     \u001b[0mbtn\u001b[0m \u001b[1;33m=\u001b[0m \u001b[0mdriver\u001b[0m\u001b[1;33m.\u001b[0m\u001b[0mfind_element_by_css_selector\u001b[0m\u001b[1;33m(\u001b[0m\u001b[1;34m\"a.c_05\"\u001b[0m\u001b[1;33m)\u001b[0m\u001b[1;33m\u001b[0m\u001b[1;33m\u001b[0m\u001b[0m\n\u001b[1;32m----> 4\u001b[1;33m     \u001b[0mbtn\u001b[0m\u001b[1;33m.\u001b[0m\u001b[0mclick\u001b[0m\u001b[1;33m(\u001b[0m\u001b[1;33m)\u001b[0m\u001b[1;33m\u001b[0m\u001b[1;33m\u001b[0m\u001b[0m\n\u001b[0m\u001b[0;32m      5\u001b[0m     \u001b[0mtime\u001b[0m\u001b[1;33m.\u001b[0m\u001b[0msleep\u001b[0m\u001b[1;33m(\u001b[0m\u001b[1;36m1\u001b[0m\u001b[1;33m)\u001b[0m\u001b[1;33m\u001b[0m\u001b[1;33m\u001b[0m\u001b[0m\n",
      "\u001b[1;32m~\\anaconda3\\lib\\site-packages\\selenium\\webdriver\\remote\\webelement.py\u001b[0m in \u001b[0;36mclick\u001b[1;34m(self)\u001b[0m\n\u001b[0;32m     79\u001b[0m     \u001b[1;32mdef\u001b[0m \u001b[0mclick\u001b[0m\u001b[1;33m(\u001b[0m\u001b[0mself\u001b[0m\u001b[1;33m)\u001b[0m \u001b[1;33m->\u001b[0m \u001b[1;32mNone\u001b[0m\u001b[1;33m:\u001b[0m\u001b[1;33m\u001b[0m\u001b[1;33m\u001b[0m\u001b[0m\n\u001b[0;32m     80\u001b[0m         \u001b[1;34m\"\"\"Clicks the element.\"\"\"\u001b[0m\u001b[1;33m\u001b[0m\u001b[1;33m\u001b[0m\u001b[0m\n\u001b[1;32m---> 81\u001b[1;33m         \u001b[0mself\u001b[0m\u001b[1;33m.\u001b[0m\u001b[0m_execute\u001b[0m\u001b[1;33m(\u001b[0m\u001b[0mCommand\u001b[0m\u001b[1;33m.\u001b[0m\u001b[0mCLICK_ELEMENT\u001b[0m\u001b[1;33m)\u001b[0m\u001b[1;33m\u001b[0m\u001b[1;33m\u001b[0m\u001b[0m\n\u001b[0m\u001b[0;32m     82\u001b[0m \u001b[1;33m\u001b[0m\u001b[0m\n\u001b[0;32m     83\u001b[0m     \u001b[1;32mdef\u001b[0m \u001b[0msubmit\u001b[0m\u001b[1;33m(\u001b[0m\u001b[0mself\u001b[0m\u001b[1;33m)\u001b[0m\u001b[1;33m:\u001b[0m\u001b[1;33m\u001b[0m\u001b[1;33m\u001b[0m\u001b[0m\n",
      "\u001b[1;32m~\\anaconda3\\lib\\site-packages\\selenium\\webdriver\\remote\\webelement.py\u001b[0m in \u001b[0;36m_execute\u001b[1;34m(self, command, params)\u001b[0m\n\u001b[0;32m    708\u001b[0m             \u001b[0mparams\u001b[0m \u001b[1;33m=\u001b[0m \u001b[1;33m{\u001b[0m\u001b[1;33m}\u001b[0m\u001b[1;33m\u001b[0m\u001b[1;33m\u001b[0m\u001b[0m\n\u001b[0;32m    709\u001b[0m         \u001b[0mparams\u001b[0m\u001b[1;33m[\u001b[0m\u001b[1;34m'id'\u001b[0m\u001b[1;33m]\u001b[0m \u001b[1;33m=\u001b[0m \u001b[0mself\u001b[0m\u001b[1;33m.\u001b[0m\u001b[0m_id\u001b[0m\u001b[1;33m\u001b[0m\u001b[1;33m\u001b[0m\u001b[0m\n\u001b[1;32m--> 710\u001b[1;33m         \u001b[1;32mreturn\u001b[0m \u001b[0mself\u001b[0m\u001b[1;33m.\u001b[0m\u001b[0m_parent\u001b[0m\u001b[1;33m.\u001b[0m\u001b[0mexecute\u001b[0m\u001b[1;33m(\u001b[0m\u001b[0mcommand\u001b[0m\u001b[1;33m,\u001b[0m \u001b[0mparams\u001b[0m\u001b[1;33m)\u001b[0m\u001b[1;33m\u001b[0m\u001b[1;33m\u001b[0m\u001b[0m\n\u001b[0m\u001b[0;32m    711\u001b[0m \u001b[1;33m\u001b[0m\u001b[0m\n\u001b[0;32m    712\u001b[0m     \u001b[1;32mdef\u001b[0m \u001b[0mfind_element\u001b[0m\u001b[1;33m(\u001b[0m\u001b[0mself\u001b[0m\u001b[1;33m,\u001b[0m \u001b[0mby\u001b[0m\u001b[1;33m=\u001b[0m\u001b[0mBy\u001b[0m\u001b[1;33m.\u001b[0m\u001b[0mID\u001b[0m\u001b[1;33m,\u001b[0m \u001b[0mvalue\u001b[0m\u001b[1;33m=\u001b[0m\u001b[1;32mNone\u001b[0m\u001b[1;33m)\u001b[0m\u001b[1;33m:\u001b[0m\u001b[1;33m\u001b[0m\u001b[1;33m\u001b[0m\u001b[0m\n",
      "\u001b[1;32m~\\anaconda3\\lib\\site-packages\\selenium\\webdriver\\remote\\webdriver.py\u001b[0m in \u001b[0;36mexecute\u001b[1;34m(self, driver_command, params)\u001b[0m\n\u001b[0;32m    423\u001b[0m         \u001b[0mresponse\u001b[0m \u001b[1;33m=\u001b[0m \u001b[0mself\u001b[0m\u001b[1;33m.\u001b[0m\u001b[0mcommand_executor\u001b[0m\u001b[1;33m.\u001b[0m\u001b[0mexecute\u001b[0m\u001b[1;33m(\u001b[0m\u001b[0mdriver_command\u001b[0m\u001b[1;33m,\u001b[0m \u001b[0mparams\u001b[0m\u001b[1;33m)\u001b[0m\u001b[1;33m\u001b[0m\u001b[1;33m\u001b[0m\u001b[0m\n\u001b[0;32m    424\u001b[0m         \u001b[1;32mif\u001b[0m \u001b[0mresponse\u001b[0m\u001b[1;33m:\u001b[0m\u001b[1;33m\u001b[0m\u001b[1;33m\u001b[0m\u001b[0m\n\u001b[1;32m--> 425\u001b[1;33m             \u001b[0mself\u001b[0m\u001b[1;33m.\u001b[0m\u001b[0merror_handler\u001b[0m\u001b[1;33m.\u001b[0m\u001b[0mcheck_response\u001b[0m\u001b[1;33m(\u001b[0m\u001b[0mresponse\u001b[0m\u001b[1;33m)\u001b[0m\u001b[1;33m\u001b[0m\u001b[1;33m\u001b[0m\u001b[0m\n\u001b[0m\u001b[0;32m    426\u001b[0m             response['value'] = self._unwrap_value(\n\u001b[0;32m    427\u001b[0m                 response.get('value', None))\n",
      "\u001b[1;32m~\\anaconda3\\lib\\site-packages\\selenium\\webdriver\\remote\\errorhandler.py\u001b[0m in \u001b[0;36mcheck_response\u001b[1;34m(self, response)\u001b[0m\n\u001b[0;32m    245\u001b[0m                 \u001b[0malert_text\u001b[0m \u001b[1;33m=\u001b[0m \u001b[0mvalue\u001b[0m\u001b[1;33m[\u001b[0m\u001b[1;34m'alert'\u001b[0m\u001b[1;33m]\u001b[0m\u001b[1;33m.\u001b[0m\u001b[0mget\u001b[0m\u001b[1;33m(\u001b[0m\u001b[1;34m'text'\u001b[0m\u001b[1;33m)\u001b[0m\u001b[1;33m\u001b[0m\u001b[1;33m\u001b[0m\u001b[0m\n\u001b[0;32m    246\u001b[0m             \u001b[1;32mraise\u001b[0m \u001b[0mexception_class\u001b[0m\u001b[1;33m(\u001b[0m\u001b[0mmessage\u001b[0m\u001b[1;33m,\u001b[0m \u001b[0mscreen\u001b[0m\u001b[1;33m,\u001b[0m \u001b[0mstacktrace\u001b[0m\u001b[1;33m,\u001b[0m \u001b[0malert_text\u001b[0m\u001b[1;33m)\u001b[0m  \u001b[1;31m# type: ignore[call-arg]  # mypy is not smart enough here\u001b[0m\u001b[1;33m\u001b[0m\u001b[1;33m\u001b[0m\u001b[0m\n\u001b[1;32m--> 247\u001b[1;33m         \u001b[1;32mraise\u001b[0m \u001b[0mexception_class\u001b[0m\u001b[1;33m(\u001b[0m\u001b[0mmessage\u001b[0m\u001b[1;33m,\u001b[0m \u001b[0mscreen\u001b[0m\u001b[1;33m,\u001b[0m \u001b[0mstacktrace\u001b[0m\u001b[1;33m)\u001b[0m\u001b[1;33m\u001b[0m\u001b[1;33m\u001b[0m\u001b[0m\n\u001b[0m\u001b[0;32m    248\u001b[0m \u001b[1;33m\u001b[0m\u001b[0m\n\u001b[0;32m    249\u001b[0m     \u001b[1;32mdef\u001b[0m \u001b[0m_value_or_default\u001b[0m\u001b[1;33m(\u001b[0m\u001b[0mself\u001b[0m\u001b[1;33m,\u001b[0m \u001b[0mobj\u001b[0m\u001b[1;33m:\u001b[0m \u001b[0mMapping\u001b[0m\u001b[1;33m[\u001b[0m\u001b[0m_KT\u001b[0m\u001b[1;33m,\u001b[0m \u001b[0m_VT\u001b[0m\u001b[1;33m]\u001b[0m\u001b[1;33m,\u001b[0m \u001b[0mkey\u001b[0m\u001b[1;33m:\u001b[0m \u001b[0m_KT\u001b[0m\u001b[1;33m,\u001b[0m \u001b[0mdefault\u001b[0m\u001b[1;33m:\u001b[0m \u001b[0m_VT\u001b[0m\u001b[1;33m)\u001b[0m \u001b[1;33m->\u001b[0m \u001b[0m_VT\u001b[0m\u001b[1;33m:\u001b[0m\u001b[1;33m\u001b[0m\u001b[1;33m\u001b[0m\u001b[0m\n",
      "\u001b[1;31mElementNotInteractableException\u001b[0m: Message: element not interactable\n  (Session info: chrome=100.0.4896.127)\nStacktrace:\nBacktrace:\n\tOrdinal0 [0x010B7413+2389011]\n\tOrdinal0 [0x01049F61+1941345]\n\tOrdinal0 [0x00F3C520+836896]\n\tOrdinal0 [0x00F6A1F3+1024499]\n\tOrdinal0 [0x00F5FF93+982931]\n\tOrdinal0 [0x00F8414C+1130828]\n\tOrdinal0 [0x00F5F974+981364]\n\tOrdinal0 [0x00F84364+1131364]\n\tOrdinal0 [0x00F94302+1196802]\n\tOrdinal0 [0x00F83F66+1130342]\n\tOrdinal0 [0x00F5E546+976198]\n\tOrdinal0 [0x00F5F456+980054]\n\tGetHandleVerifier [0x01269632+1727522]\n\tGetHandleVerifier [0x0131BA4D+2457661]\n\tGetHandleVerifier [0x0114EB81+569713]\n\tGetHandleVerifier [0x0114DD76+566118]\n\tOrdinal0 [0x01050B2B+1968939]\n\tOrdinal0 [0x01055988+1989000]\n\tOrdinal0 [0x01055A75+1989237]\n\tOrdinal0 [0x0105ECB1+2026673]\n\tBaseThreadInitThunk [0x76FEFA29+25]\n\tRtlGetAppContainerNamedObjectPath [0x77227A7E+286]\n\tRtlGetAppContainerNamedObjectPath [0x77227A4E+238]\n"
     ]
    }
   ],
   "source": [
    "# 더보기 버튼을 반복해서 실행(for)\n",
    "for i in range(30) :\n",
    "    btn = driver.find_element_by_css_selector(\"a.c_05\")\n",
    "    btn.click()\n",
    "    time.sleep(1)"
   ]
  },
  {
   "cell_type": "markdown",
   "id": "cc5c036f",
   "metadata": {},
   "source": [
    "# 예외처리\n",
    "## try except\n",
    "- try : 반복해서 시도 할 코드를 적는 공간(오류가 나기전까지)\n",
    "- except : 오류가 발생했을때 실행 할 코드를 적는 공간"
   ]
  },
  {
   "cell_type": "code",
   "execution_count": 47,
   "id": "871f184d",
   "metadata": {
    "collapsed": true
   },
   "outputs": [
    {
     "name": "stderr",
     "output_type": "stream",
     "text": [
      "C:\\Users\\smhrd\\AppData\\Local\\Temp/ipykernel_4332/579491875.py:4: DeprecationWarning: find_element_by_css_selector is deprecated. Please use find_element(by=By.CSS_SELECTOR, value=css_selector) instead\n",
      "  btn = driver.find_element_by_css_selector(\"a.c_05\")\n"
     ]
    },
    {
     "name": "stdout",
     "output_type": "stream",
     "text": [
      "더보기 종료\n"
     ]
    }
   ],
   "source": [
    "try : \n",
    "# 오류가 나기 전까지 실행 할 코드\n",
    "    for i in range(30) :\n",
    "        btn = driver.find_element_by_css_selector(\"a.c_05\")\n",
    "        btn.click()\n",
    "        time.sleep(1)\n",
    "except : \n",
    "# 오류가 났을때 실행 할 코드\n",
    "    print(\"더보기 종료\")"
   ]
  },
  {
   "cell_type": "code",
   "execution_count": 48,
   "id": "b09724d5",
   "metadata": {
    "collapsed": true
   },
   "outputs": [
    {
     "name": "stderr",
     "output_type": "stream",
     "text": [
      "C:\\Users\\smhrd\\AppData\\Local\\Temp/ipykernel_4332/1897541524.py:7: DeprecationWarning: find_element_by_css_selector is deprecated. Please use find_element(by=By.CSS_SELECTOR, value=css_selector) instead\n",
      "  btn = driver.find_element_by_css_selector(\"a.c_05\")\n"
     ]
    },
    {
     "name": "stdout",
     "output_type": "stream",
     "text": [
      "더보기 종료\n"
     ]
    },
    {
     "name": "stderr",
     "output_type": "stream",
     "text": [
      "C:\\Users\\smhrd\\AppData\\Local\\Temp/ipykernel_4332/1897541524.py:14: DeprecationWarning: find_elements_by_css_selector is deprecated. Please use find_elements(by=By.CSS_SELECTOR, value=css_selector) instead\n",
      "  title = driver.find_elements_by_css_selector(\"h4.h.fz_03\")\n",
      "C:\\Users\\smhrd\\AppData\\Local\\Temp/ipykernel_4332/1897541524.py:15: DeprecationWarning: find_elements_by_css_selector is deprecated. Please use find_elements(by=By.CSS_SELECTOR, value=css_selector) instead\n",
      "  price = driver.find_elements_by_css_selector(\"div > div.item-text > div > strong\")\n"
     ]
    }
   ],
   "source": [
    "driver = wb.Chrome()\n",
    "driver.get(\"https://www.hsd.co.kr/menu/menu_list\")\n",
    "time.sleep(1)\n",
    "\n",
    "try : \n",
    "    for i in range(30) :\n",
    "        btn = driver.find_element_by_css_selector(\"a.c_05\")\n",
    "        btn.click()\n",
    "        time.sleep(1)\n",
    "        \n",
    "except : \n",
    "    print(\"더보기 종료\")\n",
    "    \n",
    "title = driver.find_elements_by_css_selector(\"h4.h.fz_03\")\n",
    "price = driver.find_elements_by_css_selector(\"div > div.item-text > div > strong\")"
   ]
  },
  {
   "cell_type": "code",
   "execution_count": 50,
   "id": "9b53c05d",
   "metadata": {},
   "outputs": [
    {
     "data": {
      "text/plain": [
       "93"
      ]
     },
     "execution_count": 50,
     "metadata": {},
     "output_type": "execute_result"
    }
   ],
   "source": [
    "len(price)"
   ]
  },
  {
   "cell_type": "code",
   "execution_count": 52,
   "id": "fe75d7f7",
   "metadata": {},
   "outputs": [],
   "source": [
    "# 순수한 글자정보만 담긴 리스트 제작\n",
    "titleList = []\n",
    "priceList = []\n",
    "    \n",
    "for i in range(len(title)) :\n",
    "    titleList.append(title[i].text)\n",
    "    priceList.append(price[i].text)\n",
    "    "
   ]
  },
  {
   "cell_type": "code",
   "execution_count": 56,
   "id": "f8f2d38b",
   "metadata": {},
   "outputs": [
    {
     "name": "stdout",
     "output_type": "stream",
     "text": [
      "            이름     가격\n",
      "0      나시고랭 콤보  6,800\n",
      "1         나시고랭  6,000\n",
      "2    스리라차 알새우칩  1,200\n",
      "3    한입 족발 도시락  8,500\n",
      "4   한입 불족발 도시락  8,500\n",
      "..         ...    ...\n",
      "88     무말랭이 무침    300\n",
      "89         한솥밥  1,000\n",
      "90         현미밥  1,700\n",
      "91  리얼 티라미수 찰떡  1,500\n",
      "92    리얼꿀 미니호떡  2,200\n",
      "\n",
      "[93 rows x 2 columns]\n"
     ]
    }
   ],
   "source": [
    "# 데이터프레임 제작\n",
    "# - dic 형태의 데이터를 제작\n",
    "\n",
    "import pandas as pd\n",
    "dic = {\"이름\" : titleList, \"가격\" : priceList}\n",
    "han = pd.DataFrame(dic)\n",
    "print(han)"
   ]
  },
  {
   "cell_type": "code",
   "execution_count": 57,
   "id": "e717738a",
   "metadata": {},
   "outputs": [],
   "source": [
    "# 데이터프레임을 한글이 깨지지 않게 csv파일로 저장\n",
    "han.to_csv(\"한솥.csv\", encoding=\"euc_kr\")"
   ]
  },
  {
   "cell_type": "code",
   "execution_count": null,
   "id": "a6b23f6b",
   "metadata": {},
   "outputs": [],
   "source": []
  }
 ],
 "metadata": {
  "kernelspec": {
   "display_name": "Python 3 (ipykernel)",
   "language": "python",
   "name": "python3"
  },
  "language_info": {
   "codemirror_mode": {
    "name": "ipython",
    "version": 3
   },
   "file_extension": ".py",
   "mimetype": "text/x-python",
   "name": "python",
   "nbconvert_exporter": "python",
   "pygments_lexer": "ipython3",
   "version": "3.9.7"
  }
 },
 "nbformat": 4,
 "nbformat_minor": 5
}
