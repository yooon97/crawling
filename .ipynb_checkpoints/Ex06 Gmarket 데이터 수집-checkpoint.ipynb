{
 "cells": [
  {
   "cell_type": "code",
   "execution_count": 6,
   "id": "2bbf558c",
   "metadata": {},
   "outputs": [],
   "source": [
    "from selenium import webdriver as wb\n",
    "import time\n",
    "import pandas as pd"
   ]
  },
  {
   "cell_type": "code",
   "execution_count": null,
   "id": "53d4b192",
   "metadata": {},
   "outputs": [],
   "source": [
    "# 1. 크롬브라우저를 실행\n",
    "driver = wb.Chrome()\n",
    "# 1.1 gmarket 사이트로 이동\n",
    "driver.get(\"http://corners.gmarket.co.kr/Bestsellers\")"
   ]
  },
  {
   "cell_type": "code",
   "execution_count": null,
   "id": "60f1e413",
   "metadata": {},
   "outputs": [],
   "source": [
    "# 2. 첫 번째 상품을 클릭해서 페이지를 이동\n",
    "cli = driver.find_element_by_css_selector(\"#gBestWrap > div > div:nth-child(5) > div:nth-child(3) > ul > li:nth-child(1) > div.thumb\")\n",
    "cli.click()"
   ]
  },
  {
   "cell_type": "code",
   "execution_count": null,
   "id": "d3778262",
   "metadata": {},
   "outputs": [],
   "source": [
    "img = driver.find_elements_by_css_selector(\"img.lazy\")\n",
    "img[1].click()"
   ]
  },
  {
   "cell_type": "code",
   "execution_count": null,
   "id": "56d08178",
   "metadata": {},
   "outputs": [],
   "source": [
    "# 3. 상품의 이름정보 수집\n",
    "name = driver.find_elements_by_css_selector(\"#itemcase_basic > div.box__item-title > h1\")\n",
    "# 3.1 상품의 가격정보 수집\n",
    "price = driver.find_elements_by_css_selector(\"#itemcase_basic > div.box__item-title > p > span > strong\")\n",
    "# 3.2 상품의 카테고리(마지막) 수집 \n",
    "cate = driver.find_element_by_css_selector(\"body > div.location-navi > ul > li.on > a\")"
   ]
  },
  {
   "cell_type": "code",
   "execution_count": null,
   "id": "6de8ace0",
   "metadata": {},
   "outputs": [],
   "source": [
    "# 3. 상품의 이름정보 수집\n",
    "title = driver.find_element_by_css_selector(\"h1.itemtit\")\n",
    "# 3.1 상품의 가격정보 수집\n",
    "price2 = driver.find_element_by_css_selector(\"strong.price_real\")\n",
    "# 3.2 상품의 카테고리(마지막) 수집 \n",
    "cate = driver.find_element_by_css_selector(\"li.on > a\")"
   ]
  },
  {
   "cell_type": "code",
   "execution_count": null,
   "id": "9c1ae0e0",
   "metadata": {},
   "outputs": [],
   "source": [
    "# 4. 페이지 뒤로가기 실행\n",
    "driver.back()"
   ]
  },
  {
   "cell_type": "code",
   "execution_count": null,
   "id": "4d63db68",
   "metadata": {},
   "outputs": [],
   "source": [
    "price2.text"
   ]
  },
  {
   "cell_type": "markdown",
   "id": "9f5dc3e3",
   "metadata": {},
   "source": [
    "### 1번부터 10번까지 데이터를 수집"
   ]
  },
  {
   "cell_type": "code",
   "execution_count": 3,
   "id": "6b127b74",
   "metadata": {},
   "outputs": [
    {
     "name": "stderr",
     "output_type": "stream",
     "text": [
      "C:\\Users\\smhrd\\AppData\\Local\\Temp/ipykernel_13508/2365996006.py:8: DeprecationWarning: find_elements_by_css_selector is deprecated. Please use find_elements(by=By.CSS_SELECTOR, value=css_selector) instead\n",
      "  img = driver.find_elements_by_css_selector(\"img.lazy\")\n",
      "C:\\Users\\smhrd\\AppData\\Local\\Temp/ipykernel_13508/2365996006.py:11: DeprecationWarning: find_element_by_css_selector is deprecated. Please use find_element(by=By.CSS_SELECTOR, value=css_selector) instead\n",
      "  title = driver.find_element_by_css_selector(\"h1.itemtit\")\n",
      "C:\\Users\\smhrd\\AppData\\Local\\Temp/ipykernel_13508/2365996006.py:13: DeprecationWarning: find_element_by_css_selector is deprecated. Please use find_element(by=By.CSS_SELECTOR, value=css_selector) instead\n",
      "  price = driver.find_element_by_css_selector(\"strong.price_real\")\n",
      "C:\\Users\\smhrd\\AppData\\Local\\Temp/ipykernel_13508/2365996006.py:15: DeprecationWarning: find_element_by_css_selector is deprecated. Please use find_element(by=By.CSS_SELECTOR, value=css_selector) instead\n",
      "  cate = driver.find_element_by_css_selector(\"li.on > a\")\n"
     ]
    }
   ],
   "source": [
    "driver = wb.Chrome()\n",
    "driver.get(\"http://corners.gmarket.co.kr/Bestsellers\")\n",
    "time.sleep(1)\n",
    "titleList = []\n",
    "priceList = []\n",
    "cateList = []\n",
    "for i in range(10) :\n",
    "    img = driver.find_elements_by_css_selector(\"img.lazy\")\n",
    "    img[i].click()\n",
    "    time.sleep(1)\n",
    "    title = driver.find_element_by_css_selector(\"h1.itemtit\")\n",
    "    titleList.append(title.text)\n",
    "    price = driver.find_element_by_css_selector(\"strong.price_real\")\n",
    "    priceList.append(price.text)\n",
    "    cate = driver.find_element_by_css_selector(\"li.on > a\")\n",
    "    cateList.append(cate.text)\n",
    "    driver.back()\n",
    "    time.sleep(1)\n",
    "\n",
    "dic = {\"이름\" : titleList, \"가격\" : priceList, \"카테고리\" : cateList}\n",
    "gmarket = pd.DataFrame(dic)\n",
    "gmarket\n",
    "gmarket.to_csv(\"지마켓.csv\" , encoding=\"euc-kr\")"
   ]
  },
  {
   "cell_type": "code",
   "execution_count": 4,
   "id": "3fd3ea85",
   "metadata": {
    "scrolled": true
   },
   "outputs": [
    {
     "data": {
      "text/html": [
       "<div>\n",
       "<style scoped>\n",
       "    .dataframe tbody tr th:only-of-type {\n",
       "        vertical-align: middle;\n",
       "    }\n",
       "\n",
       "    .dataframe tbody tr th {\n",
       "        vertical-align: top;\n",
       "    }\n",
       "\n",
       "    .dataframe thead th {\n",
       "        text-align: right;\n",
       "    }\n",
       "</style>\n",
       "<table border=\"1\" class=\"dataframe\">\n",
       "  <thead>\n",
       "    <tr style=\"text-align: right;\">\n",
       "      <th></th>\n",
       "      <th>이름</th>\n",
       "      <th>가격</th>\n",
       "      <th>카테고리</th>\n",
       "    </tr>\n",
       "  </thead>\n",
       "  <tbody>\n",
       "    <tr>\n",
       "      <th>0</th>\n",
       "      <td>풀무원 얇은피만두 10봉 노엣지 피자 6판 골라담기</td>\n",
       "      <td>28,500원</td>\n",
       "      <td>만두</td>\n",
       "    </tr>\n",
       "    <tr>\n",
       "      <th>1</th>\n",
       "      <td>올반 꿔바로우 1.2kg x 2팩 (중국식 탕수육)</td>\n",
       "      <td>22,500원</td>\n",
       "      <td>냉동/즉석식품</td>\n",
       "    </tr>\n",
       "    <tr>\n",
       "      <th>2</th>\n",
       "      <td>(신세계강남점)휠라키즈 반팔티셔츠 균일가 15000</td>\n",
       "      <td>15,000원</td>\n",
       "      <td>유아동티셔츠</td>\n",
       "    </tr>\n",
       "    <tr>\n",
       "      <th>3</th>\n",
       "      <td>피코크 떡갈비 (450g X 3팩)</td>\n",
       "      <td>15,500원</td>\n",
       "      <td>떡갈비</td>\n",
       "    </tr>\n",
       "    <tr>\n",
       "      <th>4</th>\n",
       "      <td>체험팩 로스터리R테트라200ml 라떼6팩+아메리카노6팩</td>\n",
       "      <td>7,900원</td>\n",
       "      <td>커피음료</td>\n",
       "    </tr>\n",
       "    <tr>\n",
       "      <th>5</th>\n",
       "      <td>무료반품+22% TANIZ 여름 블로퍼/슬링백/로퍼/운동화</td>\n",
       "      <td>11,000원</td>\n",
       "      <td>블로퍼</td>\n",
       "    </tr>\n",
       "    <tr>\n",
       "      <th>6</th>\n",
       "      <td>(10%+12%+무료반품)여름까지 입는 쿨소재/바지/추리닝</td>\n",
       "      <td>6,900원</td>\n",
       "      <td>라운드넥반팔티</td>\n",
       "    </tr>\n",
       "    <tr>\n",
       "      <th>7</th>\n",
       "      <td>에너자이저 기획 패밀리팩 알카라인 건전지 AA/AAA 48입 모음</td>\n",
       "      <td>18,900원</td>\n",
       "      <td>건전지</td>\n",
       "    </tr>\n",
       "    <tr>\n",
       "      <th>8</th>\n",
       "      <td>성주 꿀 참외 3kg(랜덤과)/품질보장/무료반품</td>\n",
       "      <td>17,900원</td>\n",
       "      <td>참외</td>\n",
       "    </tr>\n",
       "    <tr>\n",
       "      <th>9</th>\n",
       "      <td>장마 알뜰 2kg 안동마 진주마 생마 참마 산마</td>\n",
       "      <td>12,500원</td>\n",
       "      <td>마/야콘</td>\n",
       "    </tr>\n",
       "  </tbody>\n",
       "</table>\n",
       "</div>"
      ],
      "text/plain": [
       "                                     이름       가격     카테고리\n",
       "0          풀무원 얇은피만두 10봉 노엣지 피자 6판 골라담기  28,500원       만두\n",
       "1          올반 꿔바로우 1.2kg x 2팩 (중국식 탕수육)  22,500원  냉동/즉석식품\n",
       "2          (신세계강남점)휠라키즈 반팔티셔츠 균일가 15000  15,000원   유아동티셔츠\n",
       "3                   피코크 떡갈비 (450g X 3팩)  15,500원      떡갈비\n",
       "4        체험팩 로스터리R테트라200ml 라떼6팩+아메리카노6팩   7,900원     커피음료\n",
       "5      무료반품+22% TANIZ 여름 블로퍼/슬링백/로퍼/운동화  11,000원      블로퍼\n",
       "6      (10%+12%+무료반품)여름까지 입는 쿨소재/바지/추리닝   6,900원  라운드넥반팔티\n",
       "7  에너자이저 기획 패밀리팩 알카라인 건전지 AA/AAA 48입 모음  18,900원      건전지\n",
       "8            성주 꿀 참외 3kg(랜덤과)/품질보장/무료반품  17,900원       참외\n",
       "9            장마 알뜰 2kg 안동마 진주마 생마 참마 산마  12,500원     마/야콘"
      ]
     },
     "execution_count": 4,
     "metadata": {},
     "output_type": "execute_result"
    }
   ],
   "source": [
    "gmarket"
   ]
  },
  {
   "cell_type": "markdown",
   "id": "eec71a05",
   "metadata": {},
   "source": [
    "# 브라우저가 안보이는 헤드리스 작업"
   ]
  },
  {
   "cell_type": "code",
   "execution_count": 7,
   "id": "8316aaa6",
   "metadata": {},
   "outputs": [],
   "source": [
    "options = wb.ChromeOptions()\n",
    "options.add_argument('headless')\n",
    "options.add_argument('window-size=1920x1080')\n",
    "options.add_argument(\"disable-gpu\")"
   ]
  },
  {
   "cell_type": "code",
   "execution_count": null,
   "id": "19488f81",
   "metadata": {},
   "outputs": [],
   "source": [
    "driver = wb.Chrome(\"C:/Users/smhrd/크롤링/chromedriver.exe\",chrome_options=options)\n",
    "driver.get(\"http://corners.gmarket.co.kr/Bestsellers\")\n",
    "time.sleep(1)\n",
    "# 순수한 글자정보만 수집할 리스트 제작\n",
    "titleList = []\n",
    "priceList = [] \n",
    "cateList = []\n",
    "for i in range(10) :\n",
    "    img = driver.find_elements_by_css_selector(\"img.lazy\")\n",
    "    img[i].click()\n",
    "    time.sleep(1)\n",
    "    \n",
    "    title = driver.find_element_by_css_selector(\"h1.itemtit\").text\n",
    "    titleList.append(title)\n",
    "    price = driver.find_element_by_css_selector(\"strong.price_real\").text\n",
    "    priceList.append(price)\n",
    "    cate = driver.find_element_by_css_selector(\"li.on > a\").text\n",
    "    cateList.append(cate)\n",
    "    \n",
    "    driver.back()\n",
    "    time.sleep(1)\n",
    "# ----데이터 수집단계----\n",
    "dic = {\"상품명\" : titleList, \"가격\" : priceList, \"카테고리\" :cateList}\n",
    "gmarket = pd.DataFrame(dic)\n",
    "gmarket\n",
    "# ----데이터 활용단계----"
   ]
  }
 ],
 "metadata": {
  "kernelspec": {
   "display_name": "Python 3 (ipykernel)",
   "language": "python",
   "name": "python3"
  },
  "language_info": {
   "codemirror_mode": {
    "name": "ipython",
    "version": 3
   },
   "file_extension": ".py",
   "mimetype": "text/x-python",
   "name": "python",
   "nbconvert_exporter": "python",
   "pygments_lexer": "ipython3",
   "version": "3.9.7"
  }
 },
 "nbformat": 4,
 "nbformat_minor": 5
}
