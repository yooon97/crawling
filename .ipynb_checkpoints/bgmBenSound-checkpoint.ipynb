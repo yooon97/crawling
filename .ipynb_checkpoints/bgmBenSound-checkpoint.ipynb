{
 "cells": [
  {
   "cell_type": "code",
   "execution_count": 4,
   "id": "f1d73826",
   "metadata": {
    "collapsed": true
   },
   "outputs": [
    {
     "name": "stdout",
     "output_type": "stream",
     "text": [
      "Requirement already satisfied: selenium in c:\\users\\smhrd\\anaconda3\\lib\\site-packages (4.1.3)\n",
      "Requirement already satisfied: trio-websocket~=0.9 in c:\\users\\smhrd\\anaconda3\\lib\\site-packages (from selenium) (0.9.2)\n",
      "Requirement already satisfied: urllib3[secure,socks]~=1.26 in c:\\users\\smhrd\\anaconda3\\lib\\site-packages (from selenium) (1.26.7)\n",
      "Requirement already satisfied: trio~=0.17 in c:\\users\\smhrd\\anaconda3\\lib\\site-packages (from selenium) (0.20.0)\n",
      "Requirement already satisfied: cffi>=1.14 in c:\\users\\smhrd\\anaconda3\\lib\\site-packages (from trio~=0.17->selenium) (1.14.6)\n",
      "Requirement already satisfied: attrs>=19.2.0 in c:\\users\\smhrd\\anaconda3\\lib\\site-packages (from trio~=0.17->selenium) (21.2.0)\n",
      "Requirement already satisfied: outcome in c:\\users\\smhrd\\anaconda3\\lib\\site-packages (from trio~=0.17->selenium) (1.1.0)\n",
      "Requirement already satisfied: idna in c:\\users\\smhrd\\anaconda3\\lib\\site-packages (from trio~=0.17->selenium) (3.2)\n",
      "Requirement already satisfied: async-generator>=1.9 in c:\\users\\smhrd\\anaconda3\\lib\\site-packages (from trio~=0.17->selenium) (1.10)\n",
      "Requirement already satisfied: sortedcontainers in c:\\users\\smhrd\\anaconda3\\lib\\site-packages (from trio~=0.17->selenium) (2.4.0)\n",
      "Requirement already satisfied: sniffio in c:\\users\\smhrd\\anaconda3\\lib\\site-packages (from trio~=0.17->selenium) (1.2.0)\n",
      "Requirement already satisfied: pycparser in c:\\users\\smhrd\\anaconda3\\lib\\site-packages (from cffi>=1.14->trio~=0.17->selenium) (2.20)\n",
      "Requirement already satisfied: wsproto>=0.14 in c:\\users\\smhrd\\anaconda3\\lib\\site-packages (from trio-websocket~=0.9->selenium) (1.1.0)\n",
      "Requirement already satisfied: PySocks!=1.5.7,<2.0,>=1.5.6 in c:\\users\\smhrd\\anaconda3\\lib\\site-packages (from urllib3[secure,socks]~=1.26->selenium) (1.7.1)\n",
      "Requirement already satisfied: pyOpenSSL>=0.14 in c:\\users\\smhrd\\anaconda3\\lib\\site-packages (from urllib3[secure,socks]~=1.26->selenium) (21.0.0)\n",
      "Requirement already satisfied: cryptography>=1.3.4 in c:\\users\\smhrd\\anaconda3\\lib\\site-packages (from urllib3[secure,socks]~=1.26->selenium) (3.4.8)\n",
      "Requirement already satisfied: certifi in c:\\users\\smhrd\\anaconda3\\lib\\site-packages (from urllib3[secure,socks]~=1.26->selenium) (2021.10.8)\n",
      "Requirement already satisfied: six>=1.5.2 in c:\\users\\smhrd\\anaconda3\\lib\\site-packages (from pyOpenSSL>=0.14->urllib3[secure,socks]~=1.26->selenium) (1.16.0)\n",
      "Requirement already satisfied: h11<1,>=0.9.0 in c:\\users\\smhrd\\anaconda3\\lib\\site-packages (from wsproto>=0.14->trio-websocket~=0.9->selenium) (0.13.0)\n"
     ]
    }
   ],
   "source": [
    "# 반드시 한번 설치\n",
    "!pip install selenium"
   ]
  },
  {
   "cell_type": "code",
   "execution_count": 5,
   "id": "57c7381b",
   "metadata": {},
   "outputs": [],
   "source": [
    "# webdriver = 웹을 통제하는 라이브러리(브라우저 역할)\n",
    "# Keys = 웹을 통해 값을 입력할때 쓰는 라이브러리(키보드)\n",
    "# time = 컴퓨터에게 중간중간 쉬는 시간을 부여하는 라이브러리\n",
    "from selenium import webdriver as wb\n",
    "from selenium.webdriver.common.keys import Keys\n",
    "import time"
   ]
  },
  {
   "cell_type": "code",
   "execution_count": 6,
   "id": "ec0adbaf",
   "metadata": {},
   "outputs": [],
   "source": [
    "# 1. 크롬부라우저를 실행\n",
    "# 컴퓨터가 쓸 수 있는 크롬 브라우저를 설치 = 크롬드라이버\n",
    "# 크롬드라이버 파일을 현재 내가 작업중인 공간에 이동\n",
    "driver = wb.Chrome() # ()크롬드라이버 경로"
   ]
  },
  {
   "cell_type": "code",
   "execution_count": 7,
   "id": "75be571b",
   "metadata": {},
   "outputs": [],
   "source": [
    "# 2. 페이지로 이동\n",
    "driver.get(\"https://www.bensound.com/free-music-for-youtube-videos\")"
   ]
  },
  {
   "cell_type": "code",
   "execution_count": 5,
   "id": "fbcdff8b",
   "metadata": {},
   "outputs": [
    {
     "name": "stderr",
     "output_type": "stream",
     "text": [
      "C:\\Users\\smhrd\\AppData\\Local\\Temp/ipykernel_13444/3636765075.py:4: DeprecationWarning: find_element_by_css_selector is deprecated. Please use find_element(by=By.CSS_SELECTOR, value=css_selector) instead\n",
      "  btn = driver.find_element_by_css_selector(\"#moreBtn\")\n"
     ]
    },
    {
     "name": "stdout",
     "output_type": "stream",
     "text": [
      "더보기 종료\n"
     ]
    }
   ],
   "source": [
    "try : \n",
    "# 오류가 나기 전까지 실행 할 코드\n",
    "    for i in range(30) :\n",
    "        btn = driver.find_element_by_css_selector(\"#moreBtn\")\n",
    "        btn.click()\n",
    "        time.sleep(1)\n",
    "except : \n",
    "# 오류가 났을때 실행 할 코드\n",
    "    print(\"더보기 종료\")"
   ]
  },
  {
   "cell_type": "code",
   "execution_count": null,
   "id": "0dd732a9",
   "metadata": {},
   "outputs": [],
   "source": [
    "##iframe = driver.find_element_by_id(\"dext5uploader_frame_dext5upload\") # id가 mainFrame이라는 요소를 찾아내고 -> iframe임\n",
    "##driver.switch_to.frame(iframe) # 이 iframe이라는 요소로 focus한다.\n",
    "## dext5uploader_frame_dext5upload"
   ]
  },
  {
   "cell_type": "code",
   "execution_count": 10,
   "id": "c34ce247",
   "metadata": {
    "scrolled": true
   },
   "outputs": [
    {
     "name": "stderr",
     "output_type": "stream",
     "text": [
      "C:\\Users\\smhrd\\AppData\\Local\\Temp/ipykernel_15148/938617331.py:1: DeprecationWarning: find_element_by_css_selector is deprecated. Please use find_element(by=By.CSS_SELECTOR, value=css_selector) instead\n",
      "  btn = driver.find_element_by_css_selector(\"#results > div.pagination.is-flex.px-5.mb-4 > a > button\")\n"
     ]
    }
   ],
   "source": [
    "btn = driver.find_element_by_css_selector(\"#results > div.pagination.is-flex.px-5.mb-4 > a > button\")\n",
    "btn.click()"
   ]
  },
  {
   "cell_type": "code",
   "execution_count": 12,
   "id": "fb597ea6",
   "metadata": {},
   "outputs": [
    {
     "name": "stderr",
     "output_type": "stream",
     "text": [
      "C:\\Users\\smhrd\\AppData\\Local\\Temp/ipykernel_15148/2968178714.py:1: DeprecationWarning: find_element_by_css_selector is deprecated. Please use find_element(by=By.CSS_SELECTOR, value=css_selector) instead\n",
      "  btn = driver.find_element_by_css_selector(\"#results > div:nth-child(1) > div.is-flex.is-align-items-flex-center.button-container.is-hidden-mobile > div:nth-child(2) > button.button.is-black.is-outlined.mr-3.is-small.is-rounded.has-text-weight-semibold.free-download\")\n"
     ]
    }
   ],
   "source": [
    "btn = driver.find_element_by_css_selector(\"#results > div:nth-child(1) > div.is-flex.is-align-items-flex-center.button-container.is-hidden-mobile > div:nth-child(2) > button.button.is-black.is-outlined.mr-3.is-small.is-rounded.has-text-weight-semibold.free-download\")\n",
    "btn.click()"
   ]
  },
  {
   "cell_type": "code",
   "execution_count": 13,
   "id": "a8084b05",
   "metadata": {
    "scrolled": true
   },
   "outputs": [
    {
     "name": "stderr",
     "output_type": "stream",
     "text": [
      "C:\\Users\\smhrd\\AppData\\Local\\Temp/ipykernel_15148/1663501556.py:1: DeprecationWarning: find_element_by_css_selector is deprecated. Please use find_element(by=By.CSS_SELECTOR, value=css_selector) instead\n",
      "  btn = driver.find_element_by_css_selector(\"#license-attribution > div.is-flex.is-flex-direction-column.is-align-items-center > a > button\")\n"
     ]
    }
   ],
   "source": [
    "btn = driver.find_element_by_css_selector(\"#license-attribution > div.is-flex.is-flex-direction-column.is-align-items-center > a > button\")\n",
    "btn.click()"
   ]
  },
  {
   "cell_type": "code",
   "execution_count": 14,
   "id": "ab41b140",
   "metadata": {},
   "outputs": [
    {
     "name": "stderr",
     "output_type": "stream",
     "text": [
      "C:\\Users\\smhrd\\AppData\\Local\\Temp/ipykernel_15148/1583080065.py:1: DeprecationWarning: find_element_by_css_selector is deprecated. Please use find_element(by=By.CSS_SELECTOR, value=css_selector) instead\n",
      "  btn = driver.find_element_by_css_selector(\"#thanks-for-downloading > div.close.ml-4.mt-4\")\n"
     ]
    }
   ],
   "source": [
    "btn = driver.find_element_by_css_selector(\"#thanks-for-downloading > div.close.ml-4.mt-4\")\n",
    "btn.click()"
   ]
  },
  {
   "cell_type": "code",
   "execution_count": 19,
   "id": "59429763",
   "metadata": {
    "scrolled": true
   },
   "outputs": [
    {
     "name": "stderr",
     "output_type": "stream",
     "text": [
      "C:\\Users\\smhrd\\AppData\\Local\\Temp/ipykernel_13444/1130462656.py:1: DeprecationWarning: find_elements_by_css_selector is deprecated. Please use find_elements(by=By.CSS_SELECTOR, value=css_selector) instead\n",
      "  bgm = driver.find_elements_by_css_selector('.none')\n"
     ]
    }
   ],
   "source": [
    "bgm = driver.find_elements_by_css_selector('.none')\n",
    "#results > div:nth-child(1) > div.is-flex.is-align-items-flex-center.button-container.is-hidden-mobile > div:nth-child(2) > button.button.is-black.is-outlined.mr-3.is-small.is-rounded.has-text-weight-semibold.free-download"
   ]
  },
  {
   "cell_type": "code",
   "execution_count": null,
   "id": "97f190a1",
   "metadata": {},
   "outputs": [],
   "source": []
  },
  {
   "cell_type": "code",
   "execution_count": 20,
   "id": "f4370128",
   "metadata": {
    "scrolled": true
   },
   "outputs": [
    {
     "name": "stderr",
     "output_type": "stream",
     "text": [
      "C:\\Users\\smhrd\\AppData\\Local\\Temp/ipykernel_13444/3478890779.py:10: DeprecationWarning: find_element_by_css_selector is deprecated. Please use find_element(by=By.CSS_SELECTOR, value=css_selector) instead\n",
      "  btn = driver.find_element_by_css_selector(\"#chkDownAt\")\n",
      "C:\\Users\\smhrd\\AppData\\Local\\Temp/ipykernel_13444/3478890779.py:13: DeprecationWarning: find_element_by_css_selector is deprecated. Please use find_element(by=By.CSS_SELECTOR, value=css_selector) instead\n",
      "  btn = driver.find_element_by_css_selector(\"#downChkBtn\")\n",
      "C:\\Users\\smhrd\\AppData\\Local\\Temp/ipykernel_13444/3478890779.py:20: DeprecationWarning: find_element_by_* commands are deprecated. Please use find_element() instead\n",
      "  iframe = driver.find_element_by_id(\"dext5uploader_frame_dext5upload\") # id가 mainFrame이라는 요소를 찾아내고 -> iframe임\n",
      "C:\\Users\\smhrd\\AppData\\Local\\Temp/ipykernel_13444/3478890779.py:23: DeprecationWarning: find_element_by_css_selector is deprecated. Please use find_element(by=By.CSS_SELECTOR, value=css_selector) instead\n",
      "  btn = driver.find_element_by_css_selector(\"#button_download_all\")\n"
     ]
    }
   ],
   "source": [
    "for i in range(500):\n",
    "    for i in range(20)\n",
    "    bgm = driver.find_elements_by_css_selector('.button is-black is-outlined mr-3 is-small is-rounded has-text-weight-semibold free-download')\n",
    "    bgm[i].click()\n",
    "    time.sleep(1)\n",
    "    btn = driver.find_element_by_class_name(\"button is-black is-outlined my-3 px-6 is-size-6 is-rounded is-borderless has-text-weight-semibold free-download is-uppercase\")\n",
    "    btn.click()\n",
    "    time.sleep(2)\n",
    "    btn = driver.find_element_by_class_name(\"close ml-4 mt-4\")\n",
    "    btn.click()\n",
    "    time.sleep(3)\n",
    "    btn = driver.find_element_by_class_name(\"#downChkBtn\")\n",
    "    btn.click()\n",
    "    tabs = driver.window_handles\n",
    "    time.sleep(1)\n",
    "    # 3번페이지 (다운로드)\n",
    "    driver.switch_to.window(tabs[2])\n",
    "    time.sleep(3)\n",
    "    iframe = driver.find_element_by_id(\"dext5uploader_frame_dext5upload\") # id가 mainFrame이라는 요소를 찾아내고 -> iframe임\n",
    "    driver.switch_to.frame(iframe) # 이 iframe이라는 요소로 focus한다.\n",
    "    time.sleep(3)\n",
    "    btn = driver.find_element_by_css_selector(\"#button_download_all\")\n",
    "    time.sleep(2)\n",
    "    btn.click()\n",
    "    time.sleep(6)\n",
    "    driver.close()\n",
    "    tabs = driver.window_handles\n",
    "    time.sleep(1)\n",
    "    driver.switch_to.window(tabs[1])\n",
    "    # 2번페이지 닫아주기\n",
    "    time.sleep(2)\n",
    "    driver.close()\n",
    "    tabs = driver.window_handles\n",
    "    time.sleep(2)\n",
    "    # 1번 페이지\n",
    "    driver.switch_to.window(tabs[0])\n",
    "    time.sleep(5)"
   ]
  },
  {
   "cell_type": "code",
   "execution_count": 10,
   "id": "2090093e",
   "metadata": {},
   "outputs": [
    {
     "data": {
      "text/plain": [
       "135"
      ]
     },
     "execution_count": 10,
     "metadata": {},
     "output_type": "execute_result"
    }
   ],
   "source": [
    "len(bgm)"
   ]
  },
  {
   "cell_type": "code",
   "execution_count": null,
   "id": "e30070e4",
   "metadata": {},
   "outputs": [],
   "source": []
  }
 ],
 "metadata": {
  "kernelspec": {
   "display_name": "Python 3 (ipykernel)",
   "language": "python",
   "name": "python3"
  },
  "language_info": {
   "codemirror_mode": {
    "name": "ipython",
    "version": 3
   },
   "file_extension": ".py",
   "mimetype": "text/x-python",
   "name": "python",
   "nbconvert_exporter": "python",
   "pygments_lexer": "ipython3",
   "version": "3.9.7"
  }
 },
 "nbformat": 4,
 "nbformat_minor": 5
}
