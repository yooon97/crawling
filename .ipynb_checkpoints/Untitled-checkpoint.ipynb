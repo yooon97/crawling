{
 "cells": [
  {
   "cell_type": "code",
   "execution_count": 1,
   "id": "a15a4b01",
   "metadata": {},
   "outputs": [],
   "source": [
    "import requests as req"
   ]
  },
  {
   "cell_type": "code",
   "execution_count": 2,
   "id": "9394bd8c",
   "metadata": {},
   "outputs": [
    {
     "data": {
      "text/plain": [
       "<Response [200]>"
      ]
     },
     "execution_count": 2,
     "metadata": {},
     "output_type": "execute_result"
    }
   ],
   "source": [
    "req.get(\"http://localhost:8081/Webjdbc/NewFile.jsp\")"
   ]
  },
  {
   "cell_type": "code",
   "execution_count": 3,
   "id": "f87d2519",
   "metadata": {},
   "outputs": [
    {
     "ename": "SyntaxError",
     "evalue": "invalid character '‘' (U+2018) (Temp/ipykernel_11752/1992868868.py, line 1)",
     "output_type": "error",
     "traceback": [
      "\u001b[1;36m  File \u001b[1;32m\"C:\\Users\\smhrd\\AppData\\Local\\Temp/ipykernel_11752/1992868868.py\"\u001b[1;36m, line \u001b[1;32m1\u001b[0m\n\u001b[1;33m    soup = bs(res.text, ‘lxml’)\u001b[0m\n\u001b[1;37m                        ^\u001b[0m\n\u001b[1;31mSyntaxError\u001b[0m\u001b[1;31m:\u001b[0m invalid character '‘' (U+2018)\n"
     ]
    }
   ],
   "source": [
    "soup = bs(res.text, ‘lxml’)\n",
    "  crawling = soup.select_one( \"#this_span\")\n",
    "  print(crawling.(txt))"
   ]
  },
  {
   "cell_type": "code",
   "execution_count": null,
   "id": "c99ec9f2",
   "metadata": {},
   "outputs": [],
   "source": []
  }
 ],
 "metadata": {
  "kernelspec": {
   "display_name": "Python 3 (ipykernel)",
   "language": "python",
   "name": "python3"
  },
  "language_info": {
   "codemirror_mode": {
    "name": "ipython",
    "version": 3
   },
   "file_extension": ".py",
   "mimetype": "text/x-python",
   "name": "python",
   "nbconvert_exporter": "python",
   "pygments_lexer": "ipython3",
   "version": "3.9.7"
  }
 },
 "nbformat": 4,
 "nbformat_minor": 5
}
