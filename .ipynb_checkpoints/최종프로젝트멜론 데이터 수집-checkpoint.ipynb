{
 "cells": [
  {
   "cell_type": "code",
   "execution_count": 200,
   "id": "dd8eaf8c",
   "metadata": {
    "scrolled": true
   },
   "outputs": [
    {
     "name": "stderr",
     "output_type": "stream",
     "text": [
      "C:\\Users\\smhrd\\AppData\\Local\\Temp/ipykernel_27040/1412228436.py:14: DeprecationWarning: find_element_by_css_selector is deprecated. Please use find_element(by=By.CSS_SELECTOR, value=css_selector) instead\n",
      "  btn = driver.find_element_by_css_selector(\"#gnb_menu > ul:nth-child(1) > li.nth3 > a > span.menu_bg.menu03\")\n",
      "C:\\Users\\smhrd\\AppData\\Local\\Temp/ipykernel_27040/1412228436.py:24: DeprecationWarning: find_element_by_css_selector is deprecated. Please use find_element(by=By.CSS_SELECTOR, value=css_selector) instead\n",
      "  btn = driver.find_element_by_css_selector(\"#conts > div.wrap_tabmenu01.type08 > ul > li:nth-child(2)\")\n",
      "C:\\Users\\smhrd\\AppData\\Local\\Temp/ipykernel_27040/1412228436.py:34: DeprecationWarning: find_element_by_css_selector is deprecated. Please use find_element(by=By.CSS_SELECTOR, value=css_selector) instead\n",
      "  btn = driver.find_element_by_css_selector(\"#conts > div.wrap_tabmenu01.type08 > ul > li:nth-child(3)\")\n",
      "C:\\Users\\smhrd\\AppData\\Local\\Temp/ipykernel_27040/1412228436.py:44: DeprecationWarning: find_element_by_css_selector is deprecated. Please use find_element(by=By.CSS_SELECTOR, value=css_selector) instead\n",
      "  btn = driver.find_element_by_css_selector(\"#conts > div.wrap_tabmenu01.type08 > ul > li:nth-child(4)\")\n",
      "C:\\Users\\smhrd\\AppData\\Local\\Temp/ipykernel_27040/1412228436.py:54: DeprecationWarning: find_element_by_css_selector is deprecated. Please use find_element(by=By.CSS_SELECTOR, value=css_selector) instead\n",
      "  btn = driver.find_element_by_css_selector(\"#conts > div.wrap_tabmenu01.type08 > ul > li:nth-child(5)\")\n",
      "C:\\Users\\smhrd\\AppData\\Local\\Temp/ipykernel_27040/1412228436.py:64: DeprecationWarning: find_element_by_css_selector is deprecated. Please use find_element(by=By.CSS_SELECTOR, value=css_selector) instead\n",
      "  btn = driver.find_element_by_css_selector(\"#conts > div.wrap_tabmenu01.type08 > ul > li:nth-child(6)\")\n",
      "C:\\Users\\smhrd\\AppData\\Local\\Temp/ipykernel_27040/1412228436.py:74: DeprecationWarning: find_element_by_css_selector is deprecated. Please use find_element(by=By.CSS_SELECTOR, value=css_selector) instead\n",
      "  btn = driver.find_element_by_css_selector(\"#conts > div.wrap_tabmenu01.type08 > ul > li:nth-child(7)\")\n",
      "C:\\Users\\smhrd\\AppData\\Local\\Temp/ipykernel_27040/1412228436.py:84: DeprecationWarning: find_element_by_css_selector is deprecated. Please use find_element(by=By.CSS_SELECTOR, value=css_selector) instead\n",
      "  btn = driver.find_element_by_css_selector(\"#conts > div.wrap_tabmenu01.type08 > ul > li:nth-child(8)\")\n"
     ]
    }
   ],
   "source": [
    "import selenium\n",
    "from selenium import webdriver as wd\n",
    "import time\n",
    "import pandas as pd\n",
    "from bs4 import BeautifulSoup\n",
    "import requests\n",
    "from itertools import repeat\n",
    "import pandas as pd\n",
    "\n",
    "driver = wb.Chrome()\n",
    "driver.get(\"https://www.melon.com/index.htm\")\n",
    "time.sleep(2)\n",
    "\n",
    "btn = driver.find_element_by_css_selector(\"#gnb_menu > ul:nth-child(1) > li.nth3 > a > span.menu_bg.menu03\")\n",
    "btn.click()\n",
    "time.sleep(2)\n",
    "\n",
    "html = driver.page_source \n",
    "soup = BeautifulSoup(html, 'lxml')\n",
    "\n",
    "basong = [title.find('a').get_text() for title in soup.find_all('div', attrs={'class': 'ellipsis rank01'})]\n",
    "basing = [ singer.get_text() for singer in soup.find_all('span', attrs={'class':'checkEllipsis'}) ]\n",
    "\n",
    "btn = driver.find_element_by_css_selector(\"#conts > div.wrap_tabmenu01.type08 > ul > li:nth-child(2)\")\n",
    "btn.click()\n",
    "time.sleep(2)\n",
    "\n",
    "html = driver.page_source \n",
    "soup = BeautifulSoup(html, 'lxml')\n",
    "\n",
    "dasong = [title.find('a').get_text() for title in soup.find_all('div', attrs={'class': 'ellipsis rank01'})]\n",
    "dasing = [ singer.get_text() for singer in soup.find_all('span', attrs={'class':'checkEllipsis'}) ]\n",
    "\n",
    "btn = driver.find_element_by_css_selector(\"#conts > div.wrap_tabmenu01.type08 > ul > li:nth-child(3)\")\n",
    "btn.click()\n",
    "time.sleep(2)\n",
    "\n",
    "html = driver.page_source \n",
    "soup = BeautifulSoup(html, 'lxml')\n",
    "\n",
    "hisong = [title.find('a').get_text() for title in soup.find_all('div', attrs={'class': 'ellipsis rank01'})]\n",
    "hising = [ singer.get_text() for singer in soup.find_all('span', attrs={'class':'checkEllipsis'}) ]\n",
    "\n",
    "btn = driver.find_element_by_css_selector(\"#conts > div.wrap_tabmenu01.type08 > ul > li:nth-child(4)\")\n",
    "btn.click()\n",
    "time.sleep(2)\n",
    "\n",
    "html = driver.page_source \n",
    "soup = BeautifulSoup(html, 'lxml')\n",
    "\n",
    "rbsong = [title.find('a').get_text() for title in soup.find_all('div', attrs={'class': 'ellipsis rank01'})]\n",
    "rbsing = [ singer.get_text() for singer in soup.find_all('span', attrs={'class':'checkEllipsis'}) ]\n",
    "\n",
    "btn = driver.find_element_by_css_selector(\"#conts > div.wrap_tabmenu01.type08 > ul > li:nth-child(5)\")\n",
    "btn.click()\n",
    "time.sleep(2)\n",
    "\n",
    "html = driver.page_source \n",
    "soup = BeautifulSoup(html, 'lxml')\n",
    "\n",
    "indisong = [title.find('a').get_text() for title in soup.find_all('div', attrs={'class': 'ellipsis rank01'})]\n",
    "indising = [ singer.get_text() for singer in soup.find_all('span', attrs={'class':'checkEllipsis'}) ]\n",
    "\n",
    "btn = driver.find_element_by_css_selector(\"#conts > div.wrap_tabmenu01.type08 > ul > li:nth-child(6)\")\n",
    "btn.click()\n",
    "time.sleep(2)\n",
    "\n",
    "html = driver.page_source \n",
    "soup = BeautifulSoup(html, 'lxml')\n",
    "\n",
    "rocksong = [title.find('a').get_text() for title in soup.find_all('div', attrs={'class': 'ellipsis rank01'})]\n",
    "rocksing = [ singer.get_text() for singer in soup.find_all('span', attrs={'class':'checkEllipsis'}) ]\n",
    "\n",
    "btn = driver.find_element_by_css_selector(\"#conts > div.wrap_tabmenu01.type08 > ul > li:nth-child(7)\")\n",
    "btn.click()\n",
    "time.sleep(2)\n",
    "\n",
    "html = driver.page_source \n",
    "soup = BeautifulSoup(html, 'lxml')\n",
    "\n",
    "trosong = [title.find('a').get_text() for title in soup.find_all('div', attrs={'class': 'ellipsis rank01'})]\n",
    "trosing = [ singer.get_text() for singer in soup.find_all('span', attrs={'class':'checkEllipsis'}) ]\n",
    "\n",
    "btn = driver.find_element_by_css_selector(\"#conts > div.wrap_tabmenu01.type08 > ul > li:nth-child(8)\")\n",
    "btn.click()\n",
    "time.sleep(2)\n",
    "\n",
    "html = driver.page_source \n",
    "soup = BeautifulSoup(html, 'lxml')\n",
    "\n",
    "bluesong = [title.find('a').get_text() for title in soup.find_all('div', attrs={'class': 'ellipsis rank01'})]\n",
    "bluesing = [ singer.get_text() for singer in soup.find_all('span', attrs={'class':'checkEllipsis'}) ]\n",
    "\n",
    "\n",
    "for i in range(0,3):\n",
    "    del basing[0]\n",
    "    del dasing[0]\n",
    "    del hising[0]\n",
    "    del rbsing[0]\n",
    "    del indising[0]\n",
    "    del rocksing[0]\n",
    "    del trosing[0]\n",
    "    del bluesing[0]\n",
    "\n",
    "songList = []\n",
    "singerList = []\n",
    "j = []\n",
    "\n",
    "for i in range(len(basing)) :\n",
    "    songList.append(basong[i])\n",
    "    singerList.append(basing[i])\n",
    "    j.append(\"발라드\")\n",
    "    \n",
    "for i in range(len(basing)) :\n",
    "    songList.append(dasong[i])\n",
    "    singerList.append(dasing[i])\n",
    "    j.append(\"댄스\")\n",
    "    \n",
    "for i in range(len(basing)) :\n",
    "    songList.append(hisong[i])\n",
    "    singerList.append(hising[i])\n",
    "    j.append(\"힙합\")\n",
    "    \n",
    "for i in range(len(basing)) :\n",
    "    songList.append(rbsong[i])\n",
    "    singerList.append(rbsing[i])\n",
    "    j.append(\"R&B\")\n",
    "    \n",
    "for i in range(len(basing)) :\n",
    "    songList.append(indisong[i])\n",
    "    singerList.append(indising[i])\n",
    "    j.append(\"인디음악\")\n",
    "    \n",
    "for i in range(len(basing)) :\n",
    "    songList.append(rocksong[i])\n",
    "    singerList.append(rocksing[i])\n",
    "    j.append(\"락\")\n",
    "    \n",
    "for i in range(len(basing)) :\n",
    "    songList.append(trosong[i])\n",
    "    singerList.append(trosing[i])\n",
    "    j.append(\"트로트\")\n",
    "    \n",
    "for i in range(len(basing)) :\n",
    "    songList.append(bluesong[i])\n",
    "    singerList.append(bluesing[i])\n",
    "    j.append(\"블루스\")\n",
    "    \n",
    "dic = {\"노래제목\" : songList, \"가수\" : singerList, \"장르\" : j}\n",
    "melon = pd.DataFrame(dic)\n",
    "melon.set_index(\"장르\", inplace=True)\n",
    "melon.to_csv(\"받을노래.csv\", encoding=\"utf-8-sig\")"
   ]
  },
  {
   "cell_type": "code",
   "execution_count": 199,
   "id": "8f23b84e",
   "metadata": {},
   "outputs": [],
   "source": [
    "dic = {\"노래제목\" : songList, \"가수\" : singerList, \"장르\" : j}\n",
    "melon = pd.DataFrame(dic)\n",
    "melon.set_index(\"장르\", inplace=True)\n",
    "melon.to_csv(\"받을노래.csv\", encoding=\"utf-8-sig\")"
   ]
  },
  {
   "cell_type": "code",
   "execution_count": null,
   "id": "5deb13bc",
   "metadata": {},
   "outputs": [],
   "source": [
    "songs = [basong, dasong, hisong, rbsong, indisong, rocksong, trosong, bluesong]\n",
    "j2 = [\"발라드\", \"댄스\", \"힙합\", \"R&B\", \"인디음악\", \"락\", \"트로트\", \"블루스\"]\n",
    "for song in songs, j2:\n",
    "    songList.append(songs[i])\n",
    "    singerList.append(songs[i])\n",
    "    j.append(j2)\n"
   ]
  },
  {
   "cell_type": "code",
   "execution_count": 190,
   "id": "ea45e6e7",
   "metadata": {},
   "outputs": [],
   "source": [
    "import pandas as pd"
   ]
  },
  {
   "cell_type": "code",
   "execution_count": null,
   "id": "317dad88",
   "metadata": {},
   "outputs": [],
   "source": []
  },
  {
   "cell_type": "markdown",
   "id": "e5740165",
   "metadata": {},
   "source": [
    "# 여기서부턴 좀 고민중"
   ]
  },
  {
   "cell_type": "code",
   "execution_count": 201,
   "id": "2766aa22",
   "metadata": {},
   "outputs": [
    {
     "name": "stderr",
     "output_type": "stream",
     "text": [
      "C:\\Users\\smhrd\\AppData\\Local\\Temp/ipykernel_27040/604134195.py:13: DeprecationWarning: find_element_by_css_selector is deprecated. Please use find_element(by=By.CSS_SELECTOR, value=css_selector) instead\n",
      "  btn = driver.find_element_by_css_selector(\"#gnb_menu > ul:nth-child(1) > li.nth3 > a > span.menu_bg.menu03\")\n",
      "C:\\Users\\smhrd\\AppData\\Local\\Temp/ipykernel_27040/604134195.py:17: DeprecationWarning: find_element_by_xpath is deprecated. Please use find_element(by=By.XPATH, value=xpath) instead\n",
      "  btn = driver.find_element_by_xpath(\"//*[@id='frm']/div/div/div/a[2]\")\n",
      "C:\\Users\\smhrd\\AppData\\Local\\Temp/ipykernel_27040/604134195.py:26: DeprecationWarning: find_element_by_css_selector is deprecated. Please use find_element(by=By.CSS_SELECTOR, value=css_selector) instead\n",
      "  btn = driver.find_element_by_css_selector(\"#conts > div.wrap_tabmenu01.type08 > ul > li:nth-child(2)\")\n",
      "C:\\Users\\smhrd\\AppData\\Local\\Temp/ipykernel_27040/604134195.py:30: DeprecationWarning: find_element_by_xpath is deprecated. Please use find_element(by=By.XPATH, value=xpath) instead\n",
      "  btn = driver.find_element_by_xpath(\"//*[@id='frm']/div/div/div/a[2]\")\n",
      "C:\\Users\\smhrd\\AppData\\Local\\Temp/ipykernel_27040/604134195.py:39: DeprecationWarning: find_element_by_css_selector is deprecated. Please use find_element(by=By.CSS_SELECTOR, value=css_selector) instead\n",
      "  btn = driver.find_element_by_css_selector(\"#conts > div.wrap_tabmenu01.type08 > ul > li:nth-child(3)\")\n",
      "C:\\Users\\smhrd\\AppData\\Local\\Temp/ipykernel_27040/604134195.py:43: DeprecationWarning: find_element_by_xpath is deprecated. Please use find_element(by=By.XPATH, value=xpath) instead\n",
      "  btn = driver.find_element_by_xpath(\"//*[@id='frm']/div/div/div/a[2]\")\n",
      "C:\\Users\\smhrd\\AppData\\Local\\Temp/ipykernel_27040/604134195.py:52: DeprecationWarning: find_element_by_css_selector is deprecated. Please use find_element(by=By.CSS_SELECTOR, value=css_selector) instead\n",
      "  btn = driver.find_element_by_css_selector(\"#conts > div.wrap_tabmenu01.type08 > ul > li:nth-child(4)\")\n",
      "C:\\Users\\smhrd\\AppData\\Local\\Temp/ipykernel_27040/604134195.py:56: DeprecationWarning: find_element_by_xpath is deprecated. Please use find_element(by=By.XPATH, value=xpath) instead\n",
      "  btn = driver.find_element_by_xpath(\"//*[@id='frm']/div/div/div/a[2]\")\n",
      "C:\\Users\\smhrd\\AppData\\Local\\Temp/ipykernel_27040/604134195.py:65: DeprecationWarning: find_element_by_css_selector is deprecated. Please use find_element(by=By.CSS_SELECTOR, value=css_selector) instead\n",
      "  btn = driver.find_element_by_css_selector(\"#conts > div.wrap_tabmenu01.type08 > ul > li:nth-child(5)\")\n"
     ]
    },
    {
     "ename": "KeyboardInterrupt",
     "evalue": "",
     "output_type": "error",
     "traceback": [
      "\u001b[1;31m---------------------------------------------------------------------------\u001b[0m",
      "\u001b[1;31mKeyboardInterrupt\u001b[0m                         Traceback (most recent call last)",
      "\u001b[1;32m~\\AppData\\Local\\Temp/ipykernel_27040/604134195.py\u001b[0m in \u001b[0;36m<module>\u001b[1;34m\u001b[0m\n\u001b[0;32m     65\u001b[0m \u001b[0mbtn\u001b[0m \u001b[1;33m=\u001b[0m \u001b[0mdriver\u001b[0m\u001b[1;33m.\u001b[0m\u001b[0mfind_element_by_css_selector\u001b[0m\u001b[1;33m(\u001b[0m\u001b[1;34m\"#conts > div.wrap_tabmenu01.type08 > ul > li:nth-child(5)\"\u001b[0m\u001b[1;33m)\u001b[0m\u001b[1;33m\u001b[0m\u001b[1;33m\u001b[0m\u001b[0m\n\u001b[0;32m     66\u001b[0m \u001b[0mbtn\u001b[0m\u001b[1;33m.\u001b[0m\u001b[0mclick\u001b[0m\u001b[1;33m(\u001b[0m\u001b[1;33m)\u001b[0m\u001b[1;33m\u001b[0m\u001b[1;33m\u001b[0m\u001b[0m\n\u001b[1;32m---> 67\u001b[1;33m \u001b[0mtime\u001b[0m\u001b[1;33m.\u001b[0m\u001b[0msleep\u001b[0m\u001b[1;33m(\u001b[0m\u001b[1;36m2\u001b[0m\u001b[1;33m)\u001b[0m\u001b[1;33m\u001b[0m\u001b[1;33m\u001b[0m\u001b[0m\n\u001b[0m\u001b[0;32m     68\u001b[0m \u001b[1;33m\u001b[0m\u001b[0m\n\u001b[0;32m     69\u001b[0m \u001b[0mbtn\u001b[0m \u001b[1;33m=\u001b[0m \u001b[0mdriver\u001b[0m\u001b[1;33m.\u001b[0m\u001b[0mfind_element_by_xpath\u001b[0m\u001b[1;33m(\u001b[0m\u001b[1;34m\"//*[@id='frm']/div/div/div/a[2]\"\u001b[0m\u001b[1;33m)\u001b[0m\u001b[1;33m\u001b[0m\u001b[1;33m\u001b[0m\u001b[0m\n",
      "\u001b[1;31mKeyboardInterrupt\u001b[0m: "
     ]
    }
   ],
   "source": [
    "import selenium\n",
    "from selenium import webdriver as wd\n",
    "import time\n",
    "import pandas as pd\n",
    "from bs4 import BeautifulSoup\n",
    "import requests\n",
    "from itertools import repeat\n",
    "\n",
    "driver = wb.Chrome()\n",
    "driver.get(\"https://www.melon.com/index.htm\")\n",
    "time.sleep(2)\n",
    "\n",
    "btn = driver.find_element_by_css_selector(\"#gnb_menu > ul:nth-child(1) > li.nth3 > a > span.menu_bg.menu03\")\n",
    "btn.click()\n",
    "time.sleep(2)\n",
    "\n",
    "btn = driver.find_element_by_xpath(\"//*[@id='frm']/div/div/div/a[2]\")\n",
    "btn.click()\n",
    "\n",
    "html = driver.page_source \n",
    "soup = BeautifulSoup(html, 'lxml')\n",
    "\n",
    "basong = [title.find('a').get_text() for title in soup.find_all('div', attrs={'class': 'ellipsis rank01'})]\n",
    "basing = [ singer.get_text() for singer in soup.find_all('span', attrs={'class':'checkEllipsis'}) ]\n",
    "\n",
    "btn = driver.find_element_by_css_selector(\"#conts > div.wrap_tabmenu01.type08 > ul > li:nth-child(2)\")\n",
    "btn.click()\n",
    "time.sleep(2)\n",
    "\n",
    "btn = driver.find_element_by_xpath(\"//*[@id='frm']/div/div/div/a[2]\")\n",
    "btn.click()\n",
    "\n",
    "html = driver.page_source \n",
    "soup = BeautifulSoup(html, 'lxml')\n",
    "\n",
    "dasong = [title.find('a').get_text() for title in soup.find_all('div', attrs={'class': 'ellipsis rank01'})]\n",
    "dasing = [ singer.get_text() for singer in soup.find_all('span', attrs={'class':'checkEllipsis'}) ]\n",
    "\n",
    "btn = driver.find_element_by_css_selector(\"#conts > div.wrap_tabmenu01.type08 > ul > li:nth-child(3)\")\n",
    "btn.click()\n",
    "time.sleep(2)\n",
    "\n",
    "btn = driver.find_element_by_xpath(\"//*[@id='frm']/div/div/div/a[2]\")\n",
    "btn.click()\n",
    "\n",
    "html = driver.page_source \n",
    "soup = BeautifulSoup(html, 'lxml')\n",
    "\n",
    "hisong = [title.find('a').get_text() for title in soup.find_all('div', attrs={'class': 'ellipsis rank01'})]\n",
    "hising = [ singer.get_text() for singer in soup.find_all('span', attrs={'class':'checkEllipsis'}) ]\n",
    "\n",
    "btn = driver.find_element_by_css_selector(\"#conts > div.wrap_tabmenu01.type08 > ul > li:nth-child(4)\")\n",
    "btn.click()\n",
    "time.sleep(2)\n",
    "\n",
    "btn = driver.find_element_by_xpath(\"//*[@id='frm']/div/div/div/a[2]\")\n",
    "btn.click()\n",
    "\n",
    "html = driver.page_source \n",
    "soup = BeautifulSoup(html, 'lxml')\n",
    "\n",
    "rbsong = [title.find('a').get_text() for title in soup.find_all('div', attrs={'class': 'ellipsis rank01'})]\n",
    "rbsing = [ singer.get_text() for singer in soup.find_all('span', attrs={'class':'checkEllipsis'}) ]\n",
    "\n",
    "btn = driver.find_element_by_css_selector(\"#conts > div.wrap_tabmenu01.type08 > ul > li:nth-child(5)\")\n",
    "btn.click()\n",
    "time.sleep(2)\n",
    "\n",
    "btn = driver.find_element_by_xpath(\"//*[@id='frm']/div/div/div/a[2]\")\n",
    "btn.click()\n",
    "\n",
    "html = driver.page_source \n",
    "soup = BeautifulSoup(html, 'lxml')\n",
    "\n",
    "indisong = [title.find('a').get_text() for title in soup.find_all('div', attrs={'class': 'ellipsis rank01'})]\n",
    "indising = [ singer.get_text() for singer in soup.find_all('span', attrs={'class':'checkEllipsis'}) ]\n",
    "\n",
    "btn = driver.find_element_by_css_selector(\"#conts > div.wrap_tabmenu01.type08 > ul > li:nth-child(6)\")\n",
    "btn.click()\n",
    "time.sleep(2)\n",
    "\n",
    "btn = driver.find_element_by_xpath(\"//*[@id='frm']/div/div/div/a[2]\")\n",
    "btn.click()\n",
    "\n",
    "html = driver.page_source \n",
    "soup = BeautifulSoup(html, 'lxml')\n",
    "\n",
    "rocksong = [title.find('a').get_text() for title in soup.find_all('div', attrs={'class': 'ellipsis rank01'})]\n",
    "rocksing = [ singer.get_text() for singer in soup.find_all('span', attrs={'class':'checkEllipsis'}) ]\n",
    "\n",
    "btn = driver.find_element_by_css_selector(\"#conts > div.wrap_tabmenu01.type08 > ul > li:nth-child(7)\")\n",
    "btn.click()\n",
    "time.sleep(2)\n",
    "\n",
    "btn = driver.find_element_by_xpath(\"//*[@id='frm']/div/div/div/a[2]\")\n",
    "btn.click()\n",
    "\n",
    "html = driver.page_source \n",
    "soup = BeautifulSoup(html, 'lxml')\n",
    "\n",
    "trosong = [title.find('a').get_text() for title in soup.find_all('div', attrs={'class': 'ellipsis rank01'})]\n",
    "trosing = [ singer.get_text() for singer in soup.find_all('span', attrs={'class':'checkEllipsis'}) ]\n",
    "\n",
    "btn = driver.find_element_by_css_selector(\"#conts > div.wrap_tabmenu01.type08 > ul > li:nth-child(8)\")\n",
    "btn.click()\n",
    "time.sleep(2)\n",
    "\n",
    "btn = driver.find_element_by_xpath(\"//*[@id='frm']/div/div/div/a[2]\")\n",
    "btn.click()\n",
    "\n",
    "html = driver.page_source \n",
    "soup = BeautifulSoup(html, 'lxml')\n",
    "\n",
    "bluesong = [title.find('a').get_text() for title in soup.find_all('div', attrs={'class': 'ellipsis rank01'})]\n",
    "bluesing = [ singer.get_text() for singer in soup.find_all('span', attrs={'class':'checkEllipsis'}) ]\n"
   ]
  },
  {
   "cell_type": "code",
   "execution_count": 235,
   "id": "662c1c6b",
   "metadata": {},
   "outputs": [
    {
     "name": "stdout",
     "output_type": "stream",
     "text": [
      "1\n"
     ]
    },
    {
     "name": "stderr",
     "output_type": "stream",
     "text": [
      "C:\\Users\\smhrd\\AppData\\Local\\Temp/ipykernel_27040/2016137311.py:25: DeprecationWarning: find_element_by_xpath is deprecated. Please use find_element(by=By.XPATH, value=xpath) instead\n",
      "  song_Xpath = driver.find_element_by_xpath('/html/body/div/div[3]/div/div/div[5]/form/div/table/tbody/tr[{}]/td[5]/div/div/div[1]/span/a'.format(i))\n",
      "C:\\Users\\smhrd\\AppData\\Local\\Temp/ipykernel_27040/2016137311.py:26: DeprecationWarning: find_element_by_xpath is deprecated. Please use find_element(by=By.XPATH, value=xpath) instead\n",
      "  singer_Xpath = driver.find_element_by_xpath('/html/body/div/div[3]/div/div/div[5]/form/div/table/tbody/tr[{}]/td[5]/div/div/div[2]/a'.format(i))\n"
     ]
    },
    {
     "name": "stdout",
     "output_type": "stream",
     "text": [
      "그때 그 순간 그대로 (그그그)\n",
      "WSG워너비 (가야G)\n",
      "사랑인가 봐\n",
      "멜로망스\n",
      "나의 X에게\n",
      "경서\n"
     ]
    },
    {
     "ename": "WebDriverException",
     "evalue": "Message: chrome not reachable\n  (Session info: chrome=103.0.5060.53)\nStacktrace:\nBacktrace:\n\tOrdinal0 [0x0109D953+2414931]\n\tOrdinal0 [0x0102F5E1+1963489]\n\tOrdinal0 [0x00F1C580+836992]\n\tOrdinal0 [0x00F101E2+786914]\n\tOrdinal0 [0x00F10A18+789016]\n\tOrdinal0 [0x00F122F2+795378]\n\tOrdinal0 [0x00F0BCA9+769193]\n\tOrdinal0 [0x00F1DA30+842288]\n\tOrdinal0 [0x00F73FF2+1196018]\n\tOrdinal0 [0x00F642B6+1131190]\n\tOrdinal0 [0x00F3E860+976992]\n\tOrdinal0 [0x00F3F756+980822]\n\tGetHandleVerifier [0x0130CC62+2510274]\n\tGetHandleVerifier [0x012FF760+2455744]\n\tGetHandleVerifier [0x0112EABA+551962]\n\tGetHandleVerifier [0x0112D916+547446]\n\tOrdinal0 [0x01035F3B+1990459]\n\tOrdinal0 [0x0103A898+2009240]\n\tOrdinal0 [0x0103A985+2009477]\n\tOrdinal0 [0x01043AD1+2046673]\n\tBaseThreadInitThunk [0x7785FA29+25]\n\tRtlGetAppContainerNamedObjectPath [0x779D7A9E+286]\n\tRtlGetAppContainerNamedObjectPath [0x779D7A6E+238]\n",
     "output_type": "error",
     "traceback": [
      "\u001b[1;31m---------------------------------------------------------------------------\u001b[0m",
      "\u001b[1;31mWebDriverException\u001b[0m                        Traceback (most recent call last)",
      "\u001b[1;32m~\\AppData\\Local\\Temp/ipykernel_27040/2016137311.py\u001b[0m in \u001b[0;36m<module>\u001b[1;34m\u001b[0m\n\u001b[0;32m     23\u001b[0m         \u001b[0mdriver\u001b[0m\u001b[1;33m.\u001b[0m\u001b[0mget\u001b[0m\u001b[1;33m(\u001b[0m\u001b[0murl\u001b[0m\u001b[1;33m)\u001b[0m\u001b[1;33m\u001b[0m\u001b[1;33m\u001b[0m\u001b[0m\n\u001b[0;32m     24\u001b[0m         \u001b[0mtime\u001b[0m\u001b[1;33m.\u001b[0m\u001b[0msleep\u001b[0m\u001b[1;33m(\u001b[0m\u001b[1;36m1\u001b[0m\u001b[1;33m)\u001b[0m\u001b[1;33m\u001b[0m\u001b[1;33m\u001b[0m\u001b[0m\n\u001b[1;32m---> 25\u001b[1;33m         \u001b[0msong_Xpath\u001b[0m \u001b[1;33m=\u001b[0m \u001b[0mdriver\u001b[0m\u001b[1;33m.\u001b[0m\u001b[0mfind_element_by_xpath\u001b[0m\u001b[1;33m(\u001b[0m\u001b[1;34m'/html/body/div/div[3]/div/div/div[5]/form/div/table/tbody/tr[{}]/td[5]/div/div/div[1]/span/a'\u001b[0m\u001b[1;33m.\u001b[0m\u001b[0mformat\u001b[0m\u001b[1;33m(\u001b[0m\u001b[0mi\u001b[0m\u001b[1;33m)\u001b[0m\u001b[1;33m)\u001b[0m\u001b[1;33m\u001b[0m\u001b[1;33m\u001b[0m\u001b[0m\n\u001b[0m\u001b[0;32m     26\u001b[0m         \u001b[0msinger_Xpath\u001b[0m \u001b[1;33m=\u001b[0m \u001b[0mdriver\u001b[0m\u001b[1;33m.\u001b[0m\u001b[0mfind_element_by_xpath\u001b[0m\u001b[1;33m(\u001b[0m\u001b[1;34m'/html/body/div/div[3]/div/div/div[5]/form/div/table/tbody/tr[{}]/td[5]/div/div/div[2]/a'\u001b[0m\u001b[1;33m.\u001b[0m\u001b[0mformat\u001b[0m\u001b[1;33m(\u001b[0m\u001b[0mi\u001b[0m\u001b[1;33m)\u001b[0m\u001b[1;33m)\u001b[0m\u001b[1;33m\u001b[0m\u001b[1;33m\u001b[0m\u001b[0m\n\u001b[0;32m     27\u001b[0m         \u001b[0msongList\u001b[0m\u001b[1;33m.\u001b[0m\u001b[0mappend\u001b[0m\u001b[1;33m(\u001b[0m\u001b[0msong_Xpath\u001b[0m\u001b[1;33m.\u001b[0m\u001b[0mtext\u001b[0m\u001b[1;33m)\u001b[0m\u001b[1;33m\u001b[0m\u001b[1;33m\u001b[0m\u001b[0m\n",
      "\u001b[1;32m~\\anaconda3\\lib\\site-packages\\selenium\\webdriver\\remote\\webdriver.py\u001b[0m in \u001b[0;36mfind_element_by_xpath\u001b[1;34m(self, xpath)\u001b[0m\n\u001b[0;32m    519\u001b[0m             \u001b[0mstacklevel\u001b[0m\u001b[1;33m=\u001b[0m\u001b[1;36m2\u001b[0m\u001b[1;33m,\u001b[0m\u001b[1;33m\u001b[0m\u001b[1;33m\u001b[0m\u001b[0m\n\u001b[0;32m    520\u001b[0m         )\n\u001b[1;32m--> 521\u001b[1;33m         \u001b[1;32mreturn\u001b[0m \u001b[0mself\u001b[0m\u001b[1;33m.\u001b[0m\u001b[0mfind_element\u001b[0m\u001b[1;33m(\u001b[0m\u001b[0mby\u001b[0m\u001b[1;33m=\u001b[0m\u001b[0mBy\u001b[0m\u001b[1;33m.\u001b[0m\u001b[0mXPATH\u001b[0m\u001b[1;33m,\u001b[0m \u001b[0mvalue\u001b[0m\u001b[1;33m=\u001b[0m\u001b[0mxpath\u001b[0m\u001b[1;33m)\u001b[0m\u001b[1;33m\u001b[0m\u001b[1;33m\u001b[0m\u001b[0m\n\u001b[0m\u001b[0;32m    522\u001b[0m \u001b[1;33m\u001b[0m\u001b[0m\n\u001b[0;32m    523\u001b[0m     \u001b[1;32mdef\u001b[0m \u001b[0mfind_elements_by_xpath\u001b[0m\u001b[1;33m(\u001b[0m\u001b[0mself\u001b[0m\u001b[1;33m,\u001b[0m \u001b[0mxpath\u001b[0m\u001b[1;33m)\u001b[0m \u001b[1;33m->\u001b[0m \u001b[0mList\u001b[0m\u001b[1;33m[\u001b[0m\u001b[0mWebElement\u001b[0m\u001b[1;33m]\u001b[0m\u001b[1;33m:\u001b[0m\u001b[1;33m\u001b[0m\u001b[1;33m\u001b[0m\u001b[0m\n",
      "\u001b[1;32m~\\anaconda3\\lib\\site-packages\\selenium\\webdriver\\remote\\webdriver.py\u001b[0m in \u001b[0;36mfind_element\u001b[1;34m(self, by, value)\u001b[0m\n\u001b[0;32m   1246\u001b[0m             \u001b[0mvalue\u001b[0m \u001b[1;33m=\u001b[0m \u001b[1;34m'[name=\"%s\"]'\u001b[0m \u001b[1;33m%\u001b[0m \u001b[0mvalue\u001b[0m\u001b[1;33m\u001b[0m\u001b[1;33m\u001b[0m\u001b[0m\n\u001b[0;32m   1247\u001b[0m \u001b[1;33m\u001b[0m\u001b[0m\n\u001b[1;32m-> 1248\u001b[1;33m         return self.execute(Command.FIND_ELEMENT, {\n\u001b[0m\u001b[0;32m   1249\u001b[0m             \u001b[1;34m'using'\u001b[0m\u001b[1;33m:\u001b[0m \u001b[0mby\u001b[0m\u001b[1;33m,\u001b[0m\u001b[1;33m\u001b[0m\u001b[1;33m\u001b[0m\u001b[0m\n\u001b[0;32m   1250\u001b[0m             'value': value})['value']\n",
      "\u001b[1;32m~\\anaconda3\\lib\\site-packages\\selenium\\webdriver\\remote\\webdriver.py\u001b[0m in \u001b[0;36mexecute\u001b[1;34m(self, driver_command, params)\u001b[0m\n\u001b[0;32m    423\u001b[0m         \u001b[0mresponse\u001b[0m \u001b[1;33m=\u001b[0m \u001b[0mself\u001b[0m\u001b[1;33m.\u001b[0m\u001b[0mcommand_executor\u001b[0m\u001b[1;33m.\u001b[0m\u001b[0mexecute\u001b[0m\u001b[1;33m(\u001b[0m\u001b[0mdriver_command\u001b[0m\u001b[1;33m,\u001b[0m \u001b[0mparams\u001b[0m\u001b[1;33m)\u001b[0m\u001b[1;33m\u001b[0m\u001b[1;33m\u001b[0m\u001b[0m\n\u001b[0;32m    424\u001b[0m         \u001b[1;32mif\u001b[0m \u001b[0mresponse\u001b[0m\u001b[1;33m:\u001b[0m\u001b[1;33m\u001b[0m\u001b[1;33m\u001b[0m\u001b[0m\n\u001b[1;32m--> 425\u001b[1;33m             \u001b[0mself\u001b[0m\u001b[1;33m.\u001b[0m\u001b[0merror_handler\u001b[0m\u001b[1;33m.\u001b[0m\u001b[0mcheck_response\u001b[0m\u001b[1;33m(\u001b[0m\u001b[0mresponse\u001b[0m\u001b[1;33m)\u001b[0m\u001b[1;33m\u001b[0m\u001b[1;33m\u001b[0m\u001b[0m\n\u001b[0m\u001b[0;32m    426\u001b[0m             response['value'] = self._unwrap_value(\n\u001b[0;32m    427\u001b[0m                 response.get('value', None))\n",
      "\u001b[1;32m~\\anaconda3\\lib\\site-packages\\selenium\\webdriver\\remote\\errorhandler.py\u001b[0m in \u001b[0;36mcheck_response\u001b[1;34m(self, response)\u001b[0m\n\u001b[0;32m    245\u001b[0m                 \u001b[0malert_text\u001b[0m \u001b[1;33m=\u001b[0m \u001b[0mvalue\u001b[0m\u001b[1;33m[\u001b[0m\u001b[1;34m'alert'\u001b[0m\u001b[1;33m]\u001b[0m\u001b[1;33m.\u001b[0m\u001b[0mget\u001b[0m\u001b[1;33m(\u001b[0m\u001b[1;34m'text'\u001b[0m\u001b[1;33m)\u001b[0m\u001b[1;33m\u001b[0m\u001b[1;33m\u001b[0m\u001b[0m\n\u001b[0;32m    246\u001b[0m             \u001b[1;32mraise\u001b[0m \u001b[0mexception_class\u001b[0m\u001b[1;33m(\u001b[0m\u001b[0mmessage\u001b[0m\u001b[1;33m,\u001b[0m \u001b[0mscreen\u001b[0m\u001b[1;33m,\u001b[0m \u001b[0mstacktrace\u001b[0m\u001b[1;33m,\u001b[0m \u001b[0malert_text\u001b[0m\u001b[1;33m)\u001b[0m  \u001b[1;31m# type: ignore[call-arg]  # mypy is not smart enough here\u001b[0m\u001b[1;33m\u001b[0m\u001b[1;33m\u001b[0m\u001b[0m\n\u001b[1;32m--> 247\u001b[1;33m         \u001b[1;32mraise\u001b[0m \u001b[0mexception_class\u001b[0m\u001b[1;33m(\u001b[0m\u001b[0mmessage\u001b[0m\u001b[1;33m,\u001b[0m \u001b[0mscreen\u001b[0m\u001b[1;33m,\u001b[0m \u001b[0mstacktrace\u001b[0m\u001b[1;33m)\u001b[0m\u001b[1;33m\u001b[0m\u001b[1;33m\u001b[0m\u001b[0m\n\u001b[0m\u001b[0;32m    248\u001b[0m \u001b[1;33m\u001b[0m\u001b[0m\n\u001b[0;32m    249\u001b[0m     \u001b[1;32mdef\u001b[0m \u001b[0m_value_or_default\u001b[0m\u001b[1;33m(\u001b[0m\u001b[0mself\u001b[0m\u001b[1;33m,\u001b[0m \u001b[0mobj\u001b[0m\u001b[1;33m:\u001b[0m \u001b[0mMapping\u001b[0m\u001b[1;33m[\u001b[0m\u001b[0m_KT\u001b[0m\u001b[1;33m,\u001b[0m \u001b[0m_VT\u001b[0m\u001b[1;33m]\u001b[0m\u001b[1;33m,\u001b[0m \u001b[0mkey\u001b[0m\u001b[1;33m:\u001b[0m \u001b[0m_KT\u001b[0m\u001b[1;33m,\u001b[0m \u001b[0mdefault\u001b[0m\u001b[1;33m:\u001b[0m \u001b[0m_VT\u001b[0m\u001b[1;33m)\u001b[0m \u001b[1;33m->\u001b[0m \u001b[0m_VT\u001b[0m\u001b[1;33m:\u001b[0m\u001b[1;33m\u001b[0m\u001b[1;33m\u001b[0m\u001b[0m\n",
      "\u001b[1;31mWebDriverException\u001b[0m: Message: chrome not reachable\n  (Session info: chrome=103.0.5060.53)\nStacktrace:\nBacktrace:\n\tOrdinal0 [0x0109D953+2414931]\n\tOrdinal0 [0x0102F5E1+1963489]\n\tOrdinal0 [0x00F1C580+836992]\n\tOrdinal0 [0x00F101E2+786914]\n\tOrdinal0 [0x00F10A18+789016]\n\tOrdinal0 [0x00F122F2+795378]\n\tOrdinal0 [0x00F0BCA9+769193]\n\tOrdinal0 [0x00F1DA30+842288]\n\tOrdinal0 [0x00F73FF2+1196018]\n\tOrdinal0 [0x00F642B6+1131190]\n\tOrdinal0 [0x00F3E860+976992]\n\tOrdinal0 [0x00F3F756+980822]\n\tGetHandleVerifier [0x0130CC62+2510274]\n\tGetHandleVerifier [0x012FF760+2455744]\n\tGetHandleVerifier [0x0112EABA+551962]\n\tGetHandleVerifier [0x0112D916+547446]\n\tOrdinal0 [0x01035F3B+1990459]\n\tOrdinal0 [0x0103A898+2009240]\n\tOrdinal0 [0x0103A985+2009477]\n\tOrdinal0 [0x01043AD1+2046673]\n\tBaseThreadInitThunk [0x7785FA29+25]\n\tRtlGetAppContainerNamedObjectPath [0x779D7A9E+286]\n\tRtlGetAppContainerNamedObjectPath [0x779D7A6E+238]\n"
     ]
    }
   ],
   "source": [
    "import selenium\n",
    "from selenium import webdriver as wd\n",
    "import time\n",
    "import pandas as pd\n",
    "from bs4 import BeautifulSoup\n",
    "import requests\n",
    "from itertools import repeat\n",
    "import pandas as pd\n",
    "\n",
    "driver = wb.Chrome()\n",
    "driver.get('https://www.melon.com/genre/song_list.htm?gnrCode=GN0300#params%5BgnrCode%5D=GN0300&params%5BdtlGnrCode%5D=&params%5BorderBy%5D=POP&params%5BsteadyYn%5D=N&po=pageObj&startIndex=1')\n",
    "result ={}\n",
    "songList = []\n",
    "singerList = []\n",
    "indexNum = 1\n",
    "\n",
    "for n in range(1,4) : \n",
    "    time.sleep(5)\n",
    "    url ='https://www.melon.com/genre/song_list.htm?gnrCode=GN0{}00#params%5BgnrCode%5D=GN0{}00&params%5BdtlGnrCode%5D=&params%5BorderBy%5D=POP&params%5BsteadyYn%5D=N&po=pageObj&startIndex=1'.format(n,n)\n",
    "    driver.get(url)    \n",
    "    print(n)\n",
    "    for i in range(1,50):\n",
    "        driver.get(url)\n",
    "        time.sleep(1)\n",
    "        song_Xpath = driver.find_element_by_xpath('/html/body/div/div[3]/div/div/div[5]/form/div/table/tbody/tr[{}]/td[5]/div/div/div[1]/span/a'.format(i))\n",
    "        singer_Xpath = driver.find_element_by_xpath('/html/body/div/div[3]/div/div/div[5]/form/div/table/tbody/tr[{}]/td[5]/div/div/div[2]/a'.format(i))\n",
    "        songList.append(song_Xpath.text)\n",
    "        singerList.append(singer_Xpath.text)\n",
    "        song = song_Xpath.text\n",
    "        singer = singer_Xpath.text\n",
    "        print(song)\n",
    "        print(singer)\n",
    "\n",
    "for n in range(5,8) : \n",
    "    time.sleep(5)\n",
    "    url ='https://www.melon.com/genre/song_list.htm?gnrCode=GN0{}00#params%5BgnrCode%5D=GN0{}00&params%5BdtlGnrCode%5D=&params%5BorderBy%5D=POP&params%5BsteadyYn%5D=N&po=pageObj&startIndex=1'.format(n,n)\n",
    "    driver.get(url)    \n",
    "    print(n)\n",
    "    for i in range(1,50):\n",
    "        driver.get(url)\n",
    "        time.sleep(1)\n",
    "        song_Xpath = driver.find_element_by_xpath('/html/body/div/div[3]/div/div/div[7]/form/div/table/tbody/tr[{}]/td[5]/div/div/div[1]/span/a'.format(i))\n",
    "        singer_Xpath = driver.find_element_by_xpath('/html/body/div/div[3]/div/div/div[7]/form/div/table/tbody/tr[{}]/td[5]/div/div/div[2]/a'.format(i))\n",
    "        songList.append(song_Xpath.text)\n",
    "        singerList.append(singer_Xpath.text)\n",
    "        song = song_Xpath.text\n",
    "        singer = singer_Xpath.text\n",
    "        print(song)\n",
    "        print(singer)"
   ]
  },
  {
   "cell_type": "code",
   "execution_count": 270,
   "id": "6d0b177a",
   "metadata": {},
   "outputs": [],
   "source": [
    "result ={}\n",
    "songList = []\n",
    "singerList = []\n",
    "indexNum = 1"
   ]
  },
  {
   "cell_type": "code",
   "execution_count": null,
   "id": "128bda29",
   "metadata": {},
   "outputs": [],
   "source": [
    "/html/body/div/div[3]/div/div/div[5]/form/div/table/tbody/tr[1]/td[5]/div/div/div[2]/a"
   ]
  },
  {
   "cell_type": "code",
   "execution_count": 308,
   "id": "518624bd",
   "metadata": {},
   "outputs": [
    {
     "name": "stdout",
     "output_type": "stream",
     "text": [
      "4\n"
     ]
    },
    {
     "name": "stderr",
     "output_type": "stream",
     "text": [
      "C:\\Users\\smhrd\\AppData\\Local\\Temp/ipykernel_27040/1823743144.py:9: DeprecationWarning: find_element_by_xpath is deprecated. Please use find_element(by=By.XPATH, value=xpath) instead\n",
      "  song_Xpath = driver.find_element_by_xpath('/html/body/div/div[3]/div/div/div[5]/form/div/table/tbody/tr[{}]/td[5]/div/div/div[1]/span/a'.format(i))\n",
      "C:\\Users\\smhrd\\AppData\\Local\\Temp/ipykernel_27040/1823743144.py:10: DeprecationWarning: find_element_by_xpath is deprecated. Please use find_element(by=By.XPATH, value=xpath) instead\n",
      "  singer_Xpath = driver.find_element_by_xpath('/html/body/div/div[3]/div/div/div[5]/form/div/table/tbody/tr[{}]/td[5]/div/div/div[2]/a'.format(i))\n"
     ]
    },
    {
     "name": "stdout",
     "output_type": "stream",
     "text": [
      "보고싶었어\n",
      "WSG워너비 (4FIRE)\n",
      "정이라고 하자 (Feat. 10CM)\n",
      "BIG Naughty (서동현)\n",
      "아무래도 난\n",
      "주시크 (Joosiq)\n",
      "GANADARA (Feat. 아이유)\n",
      "박재범\n",
      "너를 생각해\n",
      "주시크 (Joosiq)\n",
      "없었던 일로\n",
      "헤이즈 (Heize)\n",
      "낭만교향곡 (Feat. CHANGMO, 박재범)\n",
      "BIG Naughty (서동현)\n",
      "찰나가 영원이 될 때 (The Eternal Moment)\n",
      "마크툽 (MAKTUB)\n",
      "헤픈 우연\n",
      "헤이즈 (Heize)\n",
      "Need To Know\n",
      "박재범\n",
      "오늘도 빛나는 너에게 (To You My Light) (Feat.이라온)\n",
      "마크툽 (MAKTUB)\n",
      "비도 오고 그래서 (Feat. 신용재)\n",
      "헤이즈 (Heize)\n",
      "For Youth\n",
      "방탄소년단\n",
      "Vancouver\n",
      "BIG Naughty (서동현)\n",
      "밝게 빛나는 별이 되어 비춰줄게\n",
      "송이한\n",
      "All I Wanna Do (K) (Feat. Hoody, Loco)\n",
      "박재범\n",
      "바다 가자\n",
      "로지(ROZY)\n",
      "비\n",
      "폴킴\n",
      "Square (2017)\n",
      "백예린 (Yerin Baek)\n",
      "One More Time\n",
      "폴킴\n",
      "비 오는 날 듣기 좋은 노래\n",
      "윤하 (YOUNHA)\n",
      "I Don′t Lie (Feat. 기리보이)\n",
      "헤이즈 (Heize)\n",
      "북극성 (Never Goodbye)\n",
      "NCT DREAM\n",
      "ONCE AGAIN\n",
      "윈터 (WINTER)\n",
      "D (half moon) (Feat. 개코)\n",
      "DEAN\n",
      "미안해\n",
      "양다일\n",
      "RIDE (Feat. THAMA)\n",
      "SOLE (쏠)\n",
      "어쩌면 우리 (Feat. 죠지)\n",
      "헤이즈 (Heize)\n",
      "Bye bye my blue\n",
      "백예린 (Yerin Baek)\n",
      "도둑놈 (Feat. 민니 of (여자)아이들)\n",
      "헤이즈 (Heize)\n",
      "팔레트 (Feat. G-DRAGON)\n",
      "아이유\n",
      "내사람\n",
      "SG 워너비\n",
      "그건 아마 우리의 잘못은 아닐 거야\n",
      "백예린 (Yerin Baek)\n",
      "거리마다 (Feat. I.M of 몬스타엑스)\n",
      "헤이즈 (Heize)\n",
      "...사랑했잖아...\n",
      "린\n",
      "Break Away\n",
      "WSG워너비 조별경연 (할미봉)\n",
      "Lovey Dovey (Feat. meenoi)\n",
      "BIG Naughty (서동현)\n",
      "바람기억\n",
      "나얼\n",
      "삐삐\n",
      "아이유\n",
      "instagram\n",
      "DEAN\n",
      "도망가자 (Run With Me)\n",
      "선우정아\n",
      "PADO\n",
      "비비 (BIBI)\n",
      "하나,둘 (Feat. 펀치 (Punch))\n",
      "김승민\n",
      "마지막 인사 (To My First)\n",
      "NCT DREAM\n",
      "한숨\n",
      "이하이\n",
      "꽃 길\n",
      "BIGBANG (빅뱅)\n",
      "무제(無題) (Untitled, 2014)\n",
      "G-DRAGON\n",
      "Coin\n",
      "아이유\n",
      "Polaroid Love\n",
      "ENHYPEN\n",
      "Take Me (with 11키티즈)\n",
      "코드 쿤스트 (CODE KUNST)\n"
     ]
    }
   ],
   "source": [
    "for n in range(4,5) : \n",
    "    time.sleep(5)\n",
    "    url ='https://www.melon.com/genre/song_list.htm?gnrCode=GN0{}00#params%5BgnrCode%5D=GN0{}00&params%5BdtlGnrCode%5D=&params%5BorderBy%5D=POP&params%5BsteadyYn%5D=N&po=pageObj&startIndex=1'.format(n,n)\n",
    "    driver.get(url)    \n",
    "    print(n)\n",
    "    for i in range(1,51):\n",
    "        driver.get(url)\n",
    "        time.sleep(1)\n",
    "        song_Xpath = driver.find_element_by_xpath('/html/body/div/div[3]/div/div/div[5]/form/div/table/tbody/tr[{}]/td[5]/div/div/div[1]/span/a'.format(i))\n",
    "        singer_Xpath = driver.find_element_by_xpath('/html/body/div/div[3]/div/div/div[5]/form/div/table/tbody/tr[{}]/td[5]/div/div/div[2]/a'.format(i))\n",
    "        songList.append(song_Xpath.text)\n",
    "        singerList.append(singer_Xpath.text)\n",
    "        song = song_Xpath.text\n",
    "        singer = singer_Xpath.text\n",
    "        print(song)\n",
    "        print(singer)"
   ]
  },
  {
   "cell_type": "code",
   "execution_count": 261,
   "id": "4ba9e8f2",
   "metadata": {},
   "outputs": [],
   "source": [
    "songList.append(\"나비와 고양이 (feat.백현 (BAEKHYUN))\")"
   ]
  },
  {
   "cell_type": "code",
   "execution_count": 273,
   "id": "884aa0a3",
   "metadata": {
    "scrolled": true
   },
   "outputs": [
    {
     "data": {
      "text/plain": [
       "['그라데이션',\n",
       " '아무래도 난',\n",
       " 'Love story',\n",
       " '고백하는 취한밤에 (Prod. 2soo)',\n",
       " '너를 생각해',\n",
       " '해요 (2022)',\n",
       " '고백',\n",
       " '찰나가 영원이 될 때 (The Eternal Moment)',\n",
       " 'Seoul',\n",
       " '오늘도 빛나는 너에게 (To You My Light) (Feat.이라온)',\n",
       " '여행',\n",
       " '초대',\n",
       " '선물',\n",
       " '너의 번호를 누르고 (Prod. 영화처럼)',\n",
       " '주저하는 연인들을 위해',\n",
       " '사랑하긴 했었나요 스쳐가는 인연이었나요 짧지않은 우리 함께했던 시간들이 자꾸 내 마음을 가둬두네',\n",
       " '오래된 노래',\n",
       " '어떻게 지내 (Prod. By VAN.C)',\n",
       " 'Way Back Home',\n",
       " '나의 사춘기에게',\n",
       " '서툰 이별을 하려해 (Feat.전상근)',\n",
       " '폰서트',\n",
       " '우주를 줄게',\n",
       " '너, 너',\n",
       " '나랑 같이 걸을래 (바른연애 길잡이 X 적재)',\n",
       " '스토커',\n",
       " '뜨거운 여름밤은 가고 남은 건 볼품없지만',\n",
       " '조금 취했어 (Prod. 2soo)',\n",
       " '나만, 봄',\n",
       " 'Downtown Baby',\n",
       " '너는 내 세상이었어',\n",
       " '안아줘',\n",
       " '좋다고 말해',\n",
       " '썸 탈꺼야',\n",
       " '초록을거머쥔우리는',\n",
       " '스티커 사진',\n",
       " '동화',\n",
       " '별 보러 갈래?',\n",
       " '꿈속에 너 (Feat. 전상근)',\n",
       " '지금 난',\n",
       " '나만 안되는 연애',\n",
       " '어제 너는 나를 버렸어',\n",
       " 'EVERYTHING',\n",
       " '허리춤',\n",
       " '이렇게 좋아해 본 적이 없어요',\n",
       " 'TOMBOY',\n",
       " '남이 될 수 있을까',\n",
       " '가을밤에 든 생각',\n",
       " '별 보러 가자',\n",
       " '나비와 고양이 (feat.백현 (BAEKHYUN))']"
      ]
     },
     "execution_count": 273,
     "metadata": {},
     "output_type": "execute_result"
    }
   ],
   "source": [
    "songList"
   ]
  },
  {
   "cell_type": "code",
   "execution_count": 279,
   "id": "020df99c",
   "metadata": {},
   "outputs": [],
   "source": [
    "j = []"
   ]
  },
  {
   "cell_type": "code",
   "execution_count": 313,
   "id": "61514a64",
   "metadata": {},
   "outputs": [
    {
     "data": {
      "text/plain": [
       "400"
      ]
     },
     "execution_count": 313,
     "metadata": {},
     "output_type": "execute_result"
    }
   ],
   "source": [
    "len(singerList)"
   ]
  },
  {
   "cell_type": "code",
   "execution_count": 309,
   "id": "b578d85f",
   "metadata": {},
   "outputs": [],
   "source": [
    "\n",
    "\n",
    "for i in range(50):\n",
    "    j.append(\"R&B/Soul\")"
   ]
  },
  {
   "cell_type": "code",
   "execution_count": 310,
   "id": "1909fcc0",
   "metadata": {},
   "outputs": [
    {
     "data": {
      "text/plain": [
       "400"
      ]
     },
     "execution_count": 310,
     "metadata": {},
     "output_type": "execute_result"
    }
   ],
   "source": [
    "len(j)"
   ]
  },
  {
   "cell_type": "code",
   "execution_count": 239,
   "id": "c500dc3e",
   "metadata": {
    "collapsed": true
   },
   "outputs": [
    {
     "name": "stdout",
     "output_type": "stream",
     "text": [
      "0\n"
     ]
    },
    {
     "name": "stderr",
     "output_type": "stream",
     "text": [
      "C:\\Users\\smhrd\\AppData\\Local\\Temp/ipykernel_27040/2566661682.py:11: DeprecationWarning: find_element_by_xpath is deprecated. Please use find_element(by=By.XPATH, value=xpath) instead\n",
      "  song_Xpath = driver.find_element_by_xpath('/html/body/div/div[3]/div/div/div[5]/form/div/table/tbody/tr[{}]/td[5]/div/div/div[1]/span/a'.format(i))\n"
     ]
    },
    {
     "ename": "NoSuchElementException",
     "evalue": "Message: no such element: Unable to locate element: {\"method\":\"xpath\",\"selector\":\"/html/body/div/div[3]/div/div/div[5]/form/div/table/tbody/tr[1]/td[5]/div/div/div[1]/span/a\"}\n  (Session info: chrome=103.0.5060.53)\nStacktrace:\nBacktrace:\n\tOrdinal0 [0x0109D953+2414931]\n\tOrdinal0 [0x0102F5E1+1963489]\n\tOrdinal0 [0x00F1C6B8+837304]\n\tOrdinal0 [0x00F49500+1021184]\n\tOrdinal0 [0x00F4979B+1021851]\n\tOrdinal0 [0x00F76502+1205506]\n\tOrdinal0 [0x00F644E4+1131748]\n\tOrdinal0 [0x00F74812+1198098]\n\tOrdinal0 [0x00F642B6+1131190]\n\tOrdinal0 [0x00F3E860+976992]\n\tOrdinal0 [0x00F3F756+980822]\n\tGetHandleVerifier [0x0130CC62+2510274]\n\tGetHandleVerifier [0x012FF760+2455744]\n\tGetHandleVerifier [0x0112EABA+551962]\n\tGetHandleVerifier [0x0112D916+547446]\n\tOrdinal0 [0x01035F3B+1990459]\n\tOrdinal0 [0x0103A898+2009240]\n\tOrdinal0 [0x0103A985+2009477]\n\tOrdinal0 [0x01043AD1+2046673]\n\tBaseThreadInitThunk [0x7785FA29+25]\n\tRtlGetAppContainerNamedObjectPath [0x779D7A9E+286]\n\tRtlGetAppContainerNamedObjectPath [0x779D7A6E+238]\n",
     "output_type": "error",
     "traceback": [
      "\u001b[1;31m---------------------------------------------------------------------------\u001b[0m",
      "\u001b[1;31mNoSuchElementException\u001b[0m                    Traceback (most recent call last)",
      "\u001b[1;32m~\\AppData\\Local\\Temp/ipykernel_27040/2566661682.py\u001b[0m in \u001b[0;36m<module>\u001b[1;34m\u001b[0m\n\u001b[0;32m      9\u001b[0m         \u001b[0mdriver\u001b[0m\u001b[1;33m.\u001b[0m\u001b[0mget\u001b[0m\u001b[1;33m(\u001b[0m\u001b[0murl\u001b[0m\u001b[1;33m)\u001b[0m\u001b[1;33m\u001b[0m\u001b[1;33m\u001b[0m\u001b[0m\n\u001b[0;32m     10\u001b[0m         \u001b[0mtime\u001b[0m\u001b[1;33m.\u001b[0m\u001b[0msleep\u001b[0m\u001b[1;33m(\u001b[0m\u001b[1;36m2\u001b[0m\u001b[1;33m)\u001b[0m\u001b[1;33m\u001b[0m\u001b[1;33m\u001b[0m\u001b[0m\n\u001b[1;32m---> 11\u001b[1;33m         \u001b[0msong_Xpath\u001b[0m \u001b[1;33m=\u001b[0m \u001b[0mdriver\u001b[0m\u001b[1;33m.\u001b[0m\u001b[0mfind_element_by_xpath\u001b[0m\u001b[1;33m(\u001b[0m\u001b[1;34m'/html/body/div/div[3]/div/div/div[5]/form/div/table/tbody/tr[{}]/td[5]/div/div/div[1]/span/a'\u001b[0m\u001b[1;33m.\u001b[0m\u001b[0mformat\u001b[0m\u001b[1;33m(\u001b[0m\u001b[0mi\u001b[0m\u001b[1;33m)\u001b[0m\u001b[1;33m)\u001b[0m\u001b[1;33m\u001b[0m\u001b[1;33m\u001b[0m\u001b[0m\n\u001b[0m\u001b[0;32m     12\u001b[0m         \u001b[0msinger_Xpath\u001b[0m \u001b[1;33m=\u001b[0m \u001b[0mdriver\u001b[0m\u001b[1;33m.\u001b[0m\u001b[0mfind_element_by_xpath\u001b[0m\u001b[1;33m(\u001b[0m\u001b[1;34m'/html/body/div/div[3]/div/div/div[5]/form/div/table/tbody/tr[{}]/td[5]/div/div/div[2]/a'\u001b[0m\u001b[1;33m.\u001b[0m\u001b[0mformat\u001b[0m\u001b[1;33m(\u001b[0m\u001b[0mi\u001b[0m\u001b[1;33m)\u001b[0m\u001b[1;33m)\u001b[0m\u001b[1;33m\u001b[0m\u001b[1;33m\u001b[0m\u001b[0m\n\u001b[0;32m     13\u001b[0m         \u001b[0msongList\u001b[0m\u001b[1;33m.\u001b[0m\u001b[0mappend\u001b[0m\u001b[1;33m(\u001b[0m\u001b[0msong_Xpath\u001b[0m\u001b[1;33m.\u001b[0m\u001b[0mtext\u001b[0m\u001b[1;33m)\u001b[0m\u001b[1;33m\u001b[0m\u001b[1;33m\u001b[0m\u001b[0m\n",
      "\u001b[1;32m~\\anaconda3\\lib\\site-packages\\selenium\\webdriver\\remote\\webdriver.py\u001b[0m in \u001b[0;36mfind_element_by_xpath\u001b[1;34m(self, xpath)\u001b[0m\n\u001b[0;32m    519\u001b[0m             \u001b[0mstacklevel\u001b[0m\u001b[1;33m=\u001b[0m\u001b[1;36m2\u001b[0m\u001b[1;33m,\u001b[0m\u001b[1;33m\u001b[0m\u001b[1;33m\u001b[0m\u001b[0m\n\u001b[0;32m    520\u001b[0m         )\n\u001b[1;32m--> 521\u001b[1;33m         \u001b[1;32mreturn\u001b[0m \u001b[0mself\u001b[0m\u001b[1;33m.\u001b[0m\u001b[0mfind_element\u001b[0m\u001b[1;33m(\u001b[0m\u001b[0mby\u001b[0m\u001b[1;33m=\u001b[0m\u001b[0mBy\u001b[0m\u001b[1;33m.\u001b[0m\u001b[0mXPATH\u001b[0m\u001b[1;33m,\u001b[0m \u001b[0mvalue\u001b[0m\u001b[1;33m=\u001b[0m\u001b[0mxpath\u001b[0m\u001b[1;33m)\u001b[0m\u001b[1;33m\u001b[0m\u001b[1;33m\u001b[0m\u001b[0m\n\u001b[0m\u001b[0;32m    522\u001b[0m \u001b[1;33m\u001b[0m\u001b[0m\n\u001b[0;32m    523\u001b[0m     \u001b[1;32mdef\u001b[0m \u001b[0mfind_elements_by_xpath\u001b[0m\u001b[1;33m(\u001b[0m\u001b[0mself\u001b[0m\u001b[1;33m,\u001b[0m \u001b[0mxpath\u001b[0m\u001b[1;33m)\u001b[0m \u001b[1;33m->\u001b[0m \u001b[0mList\u001b[0m\u001b[1;33m[\u001b[0m\u001b[0mWebElement\u001b[0m\u001b[1;33m]\u001b[0m\u001b[1;33m:\u001b[0m\u001b[1;33m\u001b[0m\u001b[1;33m\u001b[0m\u001b[0m\n",
      "\u001b[1;32m~\\anaconda3\\lib\\site-packages\\selenium\\webdriver\\remote\\webdriver.py\u001b[0m in \u001b[0;36mfind_element\u001b[1;34m(self, by, value)\u001b[0m\n\u001b[0;32m   1246\u001b[0m             \u001b[0mvalue\u001b[0m \u001b[1;33m=\u001b[0m \u001b[1;34m'[name=\"%s\"]'\u001b[0m \u001b[1;33m%\u001b[0m \u001b[0mvalue\u001b[0m\u001b[1;33m\u001b[0m\u001b[1;33m\u001b[0m\u001b[0m\n\u001b[0;32m   1247\u001b[0m \u001b[1;33m\u001b[0m\u001b[0m\n\u001b[1;32m-> 1248\u001b[1;33m         return self.execute(Command.FIND_ELEMENT, {\n\u001b[0m\u001b[0;32m   1249\u001b[0m             \u001b[1;34m'using'\u001b[0m\u001b[1;33m:\u001b[0m \u001b[0mby\u001b[0m\u001b[1;33m,\u001b[0m\u001b[1;33m\u001b[0m\u001b[1;33m\u001b[0m\u001b[0m\n\u001b[0;32m   1250\u001b[0m             'value': value})['value']\n",
      "\u001b[1;32m~\\anaconda3\\lib\\site-packages\\selenium\\webdriver\\remote\\webdriver.py\u001b[0m in \u001b[0;36mexecute\u001b[1;34m(self, driver_command, params)\u001b[0m\n\u001b[0;32m    423\u001b[0m         \u001b[0mresponse\u001b[0m \u001b[1;33m=\u001b[0m \u001b[0mself\u001b[0m\u001b[1;33m.\u001b[0m\u001b[0mcommand_executor\u001b[0m\u001b[1;33m.\u001b[0m\u001b[0mexecute\u001b[0m\u001b[1;33m(\u001b[0m\u001b[0mdriver_command\u001b[0m\u001b[1;33m,\u001b[0m \u001b[0mparams\u001b[0m\u001b[1;33m)\u001b[0m\u001b[1;33m\u001b[0m\u001b[1;33m\u001b[0m\u001b[0m\n\u001b[0;32m    424\u001b[0m         \u001b[1;32mif\u001b[0m \u001b[0mresponse\u001b[0m\u001b[1;33m:\u001b[0m\u001b[1;33m\u001b[0m\u001b[1;33m\u001b[0m\u001b[0m\n\u001b[1;32m--> 425\u001b[1;33m             \u001b[0mself\u001b[0m\u001b[1;33m.\u001b[0m\u001b[0merror_handler\u001b[0m\u001b[1;33m.\u001b[0m\u001b[0mcheck_response\u001b[0m\u001b[1;33m(\u001b[0m\u001b[0mresponse\u001b[0m\u001b[1;33m)\u001b[0m\u001b[1;33m\u001b[0m\u001b[1;33m\u001b[0m\u001b[0m\n\u001b[0m\u001b[0;32m    426\u001b[0m             response['value'] = self._unwrap_value(\n\u001b[0;32m    427\u001b[0m                 response.get('value', None))\n",
      "\u001b[1;32m~\\anaconda3\\lib\\site-packages\\selenium\\webdriver\\remote\\errorhandler.py\u001b[0m in \u001b[0;36mcheck_response\u001b[1;34m(self, response)\u001b[0m\n\u001b[0;32m    245\u001b[0m                 \u001b[0malert_text\u001b[0m \u001b[1;33m=\u001b[0m \u001b[0mvalue\u001b[0m\u001b[1;33m[\u001b[0m\u001b[1;34m'alert'\u001b[0m\u001b[1;33m]\u001b[0m\u001b[1;33m.\u001b[0m\u001b[0mget\u001b[0m\u001b[1;33m(\u001b[0m\u001b[1;34m'text'\u001b[0m\u001b[1;33m)\u001b[0m\u001b[1;33m\u001b[0m\u001b[1;33m\u001b[0m\u001b[0m\n\u001b[0;32m    246\u001b[0m             \u001b[1;32mraise\u001b[0m \u001b[0mexception_class\u001b[0m\u001b[1;33m(\u001b[0m\u001b[0mmessage\u001b[0m\u001b[1;33m,\u001b[0m \u001b[0mscreen\u001b[0m\u001b[1;33m,\u001b[0m \u001b[0mstacktrace\u001b[0m\u001b[1;33m,\u001b[0m \u001b[0malert_text\u001b[0m\u001b[1;33m)\u001b[0m  \u001b[1;31m# type: ignore[call-arg]  # mypy is not smart enough here\u001b[0m\u001b[1;33m\u001b[0m\u001b[1;33m\u001b[0m\u001b[0m\n\u001b[1;32m--> 247\u001b[1;33m         \u001b[1;32mraise\u001b[0m \u001b[0mexception_class\u001b[0m\u001b[1;33m(\u001b[0m\u001b[0mmessage\u001b[0m\u001b[1;33m,\u001b[0m \u001b[0mscreen\u001b[0m\u001b[1;33m,\u001b[0m \u001b[0mstacktrace\u001b[0m\u001b[1;33m)\u001b[0m\u001b[1;33m\u001b[0m\u001b[1;33m\u001b[0m\u001b[0m\n\u001b[0m\u001b[0;32m    248\u001b[0m \u001b[1;33m\u001b[0m\u001b[0m\n\u001b[0;32m    249\u001b[0m     \u001b[1;32mdef\u001b[0m \u001b[0m_value_or_default\u001b[0m\u001b[1;33m(\u001b[0m\u001b[0mself\u001b[0m\u001b[1;33m,\u001b[0m \u001b[0mobj\u001b[0m\u001b[1;33m:\u001b[0m \u001b[0mMapping\u001b[0m\u001b[1;33m[\u001b[0m\u001b[0m_KT\u001b[0m\u001b[1;33m,\u001b[0m \u001b[0m_VT\u001b[0m\u001b[1;33m]\u001b[0m\u001b[1;33m,\u001b[0m \u001b[0mkey\u001b[0m\u001b[1;33m:\u001b[0m \u001b[0m_KT\u001b[0m\u001b[1;33m,\u001b[0m \u001b[0mdefault\u001b[0m\u001b[1;33m:\u001b[0m \u001b[0m_VT\u001b[0m\u001b[1;33m)\u001b[0m \u001b[1;33m->\u001b[0m \u001b[0m_VT\u001b[0m\u001b[1;33m:\u001b[0m\u001b[1;33m\u001b[0m\u001b[1;33m\u001b[0m\u001b[0m\n",
      "\u001b[1;31mNoSuchElementException\u001b[0m: Message: no such element: Unable to locate element: {\"method\":\"xpath\",\"selector\":\"/html/body/div/div[3]/div/div/div[5]/form/div/table/tbody/tr[1]/td[5]/div/div/div[1]/span/a\"}\n  (Session info: chrome=103.0.5060.53)\nStacktrace:\nBacktrace:\n\tOrdinal0 [0x0109D953+2414931]\n\tOrdinal0 [0x0102F5E1+1963489]\n\tOrdinal0 [0x00F1C6B8+837304]\n\tOrdinal0 [0x00F49500+1021184]\n\tOrdinal0 [0x00F4979B+1021851]\n\tOrdinal0 [0x00F76502+1205506]\n\tOrdinal0 [0x00F644E4+1131748]\n\tOrdinal0 [0x00F74812+1198098]\n\tOrdinal0 [0x00F642B6+1131190]\n\tOrdinal0 [0x00F3E860+976992]\n\tOrdinal0 [0x00F3F756+980822]\n\tGetHandleVerifier [0x0130CC62+2510274]\n\tGetHandleVerifier [0x012FF760+2455744]\n\tGetHandleVerifier [0x0112EABA+551962]\n\tGetHandleVerifier [0x0112D916+547446]\n\tOrdinal0 [0x01035F3B+1990459]\n\tOrdinal0 [0x0103A898+2009240]\n\tOrdinal0 [0x0103A985+2009477]\n\tOrdinal0 [0x01043AD1+2046673]\n\tBaseThreadInitThunk [0x7785FA29+25]\n\tRtlGetAppContainerNamedObjectPath [0x779D7A9E+286]\n\tRtlGetAppContainerNamedObjectPath [0x779D7A6E+238]\n"
     ]
    }
   ],
   "source": [
    "driver = wb.Chrome()\n",
    "driver.get('https://www.melon.com/genre/song_list.htm?gnrCode=GN0300#params%5BgnrCode%5D=GN0300&params%5BdtlGnrCode%5D=&params%5BorderBy%5D=POP&params%5BsteadyYn%5D=N&po=pageObj&startIndex=1')\n",
    "for n in range(1) : \n",
    "    time.sleep(5)\n",
    "    url ='https://www.melon.com/genre/song_list.htm?gnrCode=GN0{}00#params%5BgnrCode%5D=GN0{}00&params%5BdtlGnrCode%5D=&params%5BorderBy%5D=POP&params%5BsteadyYn%5D=N&po=pageObj&startIndex=1'.format(n,n)\n",
    "    driver.get(url)    \n",
    "    print(n)\n",
    "    for i in range(1,50):\n",
    "        driver.get(url)\n",
    "        time.sleep(2)\n",
    "        song_Xpath = driver.find_element_by_xpath('/html/body/div/div[3]/div/div/div[5]/form/div/table/tbody/tr[{}]/td[5]/div/div/div[1]/span/a'.format(i))\n",
    "        singer_Xpath = driver.find_element_by_xpath('/html/body/div/div[3]/div/div/div[5]/form/div/table/tbody/tr[{}]/td[5]/div/div/div[2]/a'.format(i))\n",
    "        songList.append(song_Xpath.text)\n",
    "        singerList.append(singer_Xpath.text)\n",
    "        song = song_Xpath.text\n",
    "        singer = singer_Xpath.text\n",
    "        print(song)\n",
    "        print(singer)\n",
    "        print(i)"
   ]
  },
  {
   "cell_type": "code",
   "execution_count": null,
   "id": "ed3ee99b",
   "metadata": {},
   "outputs": [],
   "source": []
  },
  {
   "cell_type": "code",
   "execution_count": 232,
   "id": "0a1ccf93",
   "metadata": {},
   "outputs": [
    {
     "name": "stdout",
     "output_type": "stream",
     "text": [
      "너와함께\n"
     ]
    }
   ],
   "source": [
    "import requests as req\n",
    "from bs4 import BeautifulSoup as bs\n",
    "h = {\"User-Agent\": \"Mozilla/5.0 (Windows NT 10.0; Win64; x64) AppleWebKit/537.36 (KHTML, like Gecko) Chrome/100.0.4896.88 Safari/537.36\"}\n",
    "res = req.get(\"https://www.melon.com/genre/song_list.htm?gnrCode=GN0100#params%5BgnrCode%5D=GN0100&params%5BdtlGnrCode%5D=&params%5BorderBy%5D=POP&params%5BsteadyYn%5D=N&po=pageObj&startIndex=1\", headers = h)\n",
    "res\n",
    "soup = bs(res.text,\"lxml\")\n",
    "\n",
    "song = soup.select(\"#frm > div > table > tbody > tr:nth-child(1) > td:nth-child(5) > div > div > div.ellipsis.rank01 > span > a\")\n",
    "singer = soup.select(\"div.ellipsis.rank02 > span\")\n",
    "for i in song :\n",
    "    print(i.text)"
   ]
  },
  {
   "cell_type": "code",
   "execution_count": 223,
   "id": "1b0b68c8",
   "metadata": {},
   "outputs": [],
   "source": [
    "for i in singer :\n",
    "    print(i.text)"
   ]
  },
  {
   "cell_type": "code",
   "execution_count": 227,
   "id": "b7e93a75",
   "metadata": {},
   "outputs": [
    {
     "data": {
      "text/plain": [
       "[]"
      ]
     },
     "execution_count": 227,
     "metadata": {},
     "output_type": "execute_result"
    }
   ],
   "source": [
    "singer"
   ]
  },
  {
   "cell_type": "code",
   "execution_count": null,
   "id": "7d9478fc",
   "metadata": {},
   "outputs": [],
   "source": []
  },
  {
   "cell_type": "code",
   "execution_count": null,
   "id": "a881a17a",
   "metadata": {},
   "outputs": [],
   "source": []
  },
  {
   "cell_type": "code",
   "execution_count": null,
   "id": "d84c8596",
   "metadata": {},
   "outputs": [],
   "source": []
  },
  {
   "cell_type": "code",
   "execution_count": 316,
   "id": "73edd464",
   "metadata": {},
   "outputs": [],
   "source": [
    "dic = {\"노래제목\" : songList, \"가수\" : singerList, \"장르\" : j}\n",
    "melon = pd.DataFrame(dic)\n",
    "melon.set_index(\"장르\", inplace=True)\n",
    "melon.to_csv(\"되라ㅅㅂ.csv\", encoding=\"utf-8-sig\")"
   ]
  },
  {
   "cell_type": "code",
   "execution_count": null,
   "id": "918739b1",
   "metadata": {},
   "outputs": [],
   "source": []
  },
  {
   "cell_type": "code",
   "execution_count": 6,
   "id": "734aff8c",
   "metadata": {},
   "outputs": [],
   "source": [
    "songList = []\n",
    "singerList = []"
   ]
  },
  {
   "cell_type": "code",
   "execution_count": 5,
   "id": "1483bac7",
   "metadata": {},
   "outputs": [
    {
     "name": "stdout",
     "output_type": "stream",
     "text": [
      "Violet!\n",
      "Quit\n",
      "Good Mood (Original Song From Paw Patrol: The Movie)\n",
      "Freaking Out\n",
      "Paycheck\n",
      "When You're Gone\n",
      "Love Runs Out\n",
      "Like Hell\n",
      "Never Nervous\n",
      "I Believe\n",
      "Can We Make It? (Jim Carrey)\n",
      "Mindreader\n",
      "What Everybody Wants\n",
      "That's What Makes Me Love You\n",
      "Thank God You Introduced Me to Your Sister\n",
      "L.O.V.E. (Feat. EARTHGANG, Jon Batiste & Sherwyn)\n",
      "love me better\n",
      "Not About Love\n",
      "Who Doesn't Love Love\n",
      "April\n",
      "Win Anyway\n",
      "Break Your Phone\n",
      "History\n",
      "Potential\n"
     ]
    }
   ],
   "source": [
    "import requests as req\n",
    "from bs4 import BeautifulSoup as bs\n",
    "h = {\"User-Agent\": \"Mozilla/5.0 (Windows NT 10.0; Win64; x64) AppleWebKit/537.36 (KHTML, like Gecko) Chrome/100.0.4896.88 Safari/537.36\"}\n",
    "res = req.get(\"https://www.melon.com/mymusic/dj/mymusicdjplaylistview_inform.htm?plylstSeq=507779743\", headers = h)\n",
    "res\n",
    "soup = bs(res.text,\"lxml\")\n",
    "\n",
    "songList.append(soup.select(\"div.ellipsis.rank01 > span > a\"))\n",
    "singerList.append(soup.select(\"div.ellipsis.rank02 > span\"))\n",
    "for i in song :\n",
    "    print(i.text)"
   ]
  },
  {
   "cell_type": "code",
   "execution_count": null,
   "id": "2d290ace",
   "metadata": {},
   "outputs": [],
   "source": [
    "soup.select(\"div.ellipsis.rank02 > span\")"
   ]
  },
  {
   "cell_type": "code",
   "execution_count": null,
   "id": "c35c8276",
   "metadata": {},
   "outputs": [],
   "source": []
  },
  {
   "cell_type": "code",
   "execution_count": null,
   "id": "14007479",
   "metadata": {},
   "outputs": [],
   "source": []
  },
  {
   "cell_type": "code",
   "execution_count": null,
   "id": "5266ee14",
   "metadata": {},
   "outputs": [],
   "source": []
  },
  {
   "cell_type": "code",
   "execution_count": null,
   "id": "9546fe7e",
   "metadata": {},
   "outputs": [],
   "source": []
  },
  {
   "cell_type": "code",
   "execution_count": null,
   "id": "b0a174e1",
   "metadata": {},
   "outputs": [],
   "source": []
  },
  {
   "cell_type": "code",
   "execution_count": null,
   "id": "57dac4ed",
   "metadata": {},
   "outputs": [],
   "source": []
  },
  {
   "cell_type": "code",
   "execution_count": null,
   "id": "1384bca7",
   "metadata": {},
   "outputs": [],
   "source": []
  },
  {
   "cell_type": "code",
   "execution_count": null,
   "id": "d485b202",
   "metadata": {},
   "outputs": [],
   "source": []
  },
  {
   "cell_type": "code",
   "execution_count": null,
   "id": "0bf84b1e",
   "metadata": {},
   "outputs": [],
   "source": []
  }
 ],
 "metadata": {
  "kernelspec": {
   "display_name": "Python 3 (ipykernel)",
   "language": "python",
   "name": "python3"
  },
  "language_info": {
   "codemirror_mode": {
    "name": "ipython",
    "version": 3
   },
   "file_extension": ".py",
   "mimetype": "text/x-python",
   "name": "python",
   "nbconvert_exporter": "python",
   "pygments_lexer": "ipython3",
   "version": "3.9.7"
  }
 },
 "nbformat": 4,
 "nbformat_minor": 5
}
