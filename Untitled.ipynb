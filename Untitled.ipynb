{
 "cells": [
  {
   "cell_type": "code",
   "execution_count": 9,
   "id": "f5c2b5bb",
   "metadata": {},
   "outputs": [],
   "source": [
    "import requests as req"
   ]
  },
  {
   "cell_type": "code",
   "execution_count": 17,
   "id": "e543451d",
   "metadata": {},
   "outputs": [],
   "source": [
    "from bs4 import BeautifulSoup as bs"
   ]
  },
  {
   "cell_type": "code",
   "execution_count": 18,
   "id": "28a3d749",
   "metadata": {},
   "outputs": [],
   "source": [
    "res =req.get(\"http://localhost:8081/Webjdbc/NewFile.jsp\")"
   ]
  },
  {
   "cell_type": "code",
   "execution_count": 19,
   "id": "4125f47a",
   "metadata": {},
   "outputs": [],
   "source": [
    "soup = bs(res.text, \"lxml\")\n"
   ]
  },
  {
   "cell_type": "code",
   "execution_count": 20,
   "id": "f86ddccd",
   "metadata": {},
   "outputs": [
    {
     "data": {
      "text/plain": [
       "'\\n\\n\\nInsert title here\\n\\n\\n\\n\\n나를 수집해봐!\\n\\n\\n나를 수집해봐!\\n\\n\\n\\n'"
      ]
     },
     "execution_count": 20,
     "metadata": {},
     "output_type": "execute_result"
    }
   ],
   "source": [
    "soup.text"
   ]
  },
  {
   "cell_type": "code",
   "execution_count": 26,
   "id": "10afd49c",
   "metadata": {},
   "outputs": [
    {
     "name": "stdout",
     "output_type": "stream",
     "text": [
      "나를 수집해봐!\n"
     ]
    }
   ],
   "source": [
    "  crawling = soup.select_one(\"#“this_span”\")\n",
    "  print(crawling.text)"
   ]
  },
  {
   "cell_type": "code",
   "execution_count": null,
   "id": "b32c5394",
   "metadata": {},
   "outputs": [],
   "source": []
  }
 ],
 "metadata": {
  "kernelspec": {
   "display_name": "Python 3 (ipykernel)",
   "language": "python",
   "name": "python3"
  },
  "language_info": {
   "codemirror_mode": {
    "name": "ipython",
    "version": 3
   },
   "file_extension": ".py",
   "mimetype": "text/x-python",
   "name": "python",
   "nbconvert_exporter": "python",
   "pygments_lexer": "ipython3",
   "version": "3.9.7"
  }
 },
 "nbformat": 4,
 "nbformat_minor": 5
}
